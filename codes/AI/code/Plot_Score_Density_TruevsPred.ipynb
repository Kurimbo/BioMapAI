{
 "cells": [
  {
   "cell_type": "code",
   "execution_count": 1,
   "id": "3b09840a",
   "metadata": {},
   "outputs": [],
   "source": [
    "setwd(\"../../../\")\n",
    "pacman::p_load(dplyr, stringr, ComplexHeatmap)"
   ]
  },
  {
   "cell_type": "code",
   "execution_count": 2,
   "id": "287946f8",
   "metadata": {},
   "outputs": [],
   "source": [
    "table = read.csv(\"codes/AI/output/cross_validation/score_pred.csv\", header = T, row.names = 1)\n",
    "sample_meta = read.csv(\"data/metadata/Metadata_061523.csv\", header = T, row.names = 1)\n",
    "sample_meta = sample_meta[rownames(table),]\n",
    "healthy_table = table[sample_meta$study_ptorhc == 'Control',]\n",
    "patient_table = table[sample_meta$study_ptorhc == 'MECFS',]"
   ]
  },
  {
   "cell_type": "code",
   "execution_count": 3,
   "id": "39eae8cc",
   "metadata": {},
   "outputs": [],
   "source": [
    "score_meta = str_split_fixed(colnames(table),\"\\\\.\",3) %>% as.data.frame()\n",
    "rownames(score_meta) = colnames(table)\n",
    "colnames(score_meta) = c('model','questionnaire','score')"
   ]
  },
  {
   "cell_type": "code",
   "execution_count": 4,
   "id": "cabf9728",
   "metadata": {},
   "outputs": [],
   "source": [
    "healthy_table_list = {}\n",
    "patient_table_list = {}\n",
    "for(score in unique(score_meta$score)){\n",
    "    table_i=healthy_table[,score_meta$score == score]\n",
    "    colnames(table_i) = str_split_fixed(colnames(table_i),\"\\\\.\",3)[,1]\n",
    "    table_i = table_i[,c('true','immune','specie','metabolome','kegg','quest','omics')]\n",
    "    healthy_table_list[[score]] = table_i\n",
    "    \n",
    "    table_i=patient_table[,score_meta$score == score]\n",
    "    colnames(table_i) = str_split_fixed(colnames(table_i),\"\\\\.\",3)[,1]\n",
    "    table_i = table_i[,c('true','immune','specie','metabolome','kegg','quest','omics')]\n",
    "    patient_table_list[[score]] = table_i\n",
    "\n",
    "}"
   ]
  },
  {
   "cell_type": "markdown",
   "id": "c0847356",
   "metadata": {},
   "source": [
    "# Plot full density in Supplimental"
   ]
  },
  {
   "cell_type": "code",
   "execution_count": 6,
   "id": "af6267c3",
   "metadata": {},
   "outputs": [
    {
     "data": {
      "text/html": [
       "<strong>png:</strong> 2"
      ],
      "text/latex": [
       "\\textbf{png:} 2"
      ],
      "text/markdown": [
       "**png:** 2"
      ],
      "text/plain": [
       "png \n",
       "  2 "
      ]
     },
     "metadata": {},
     "output_type": "display_data"
    }
   ],
   "source": [
    "pdf(\"output/AI_figure/ScoreDensity_Healthy_full.pdf\", width = 18, height = 2.5)\n",
    "heatmap_list <- list()\n",
    "\n",
    "for (i in 1:11) {\n",
    "    table_list = healthy_table_list\n",
    "    table_i = table_list[[i]]\n",
    "    colnames(table_i) = c(\"True\",\"Immune\",\"Species\",\"KEGG\",\"Metabolome\",\"Quest\",\"Omics\")\n",
    "    title = str_replace_all(names(table_list)[[i]],\"\\\\.\",\" \")\n",
    "    title = str_replace_all(title,\"Role Limitations due to \",\"\")\n",
    "    title = str_replace_all(title,\" \",\"\\n\")\n",
    "    title = str_replace_all(title,\"_\",\"\\n\")\n",
    "    heatmap_i = densityHeatmap(table_i,show_column_names = F, \n",
    "               ylab=character(0),tick_label_gp = gpar(fontsize = 0), \n",
    "               quantile_gp = gpar(fontsize = 0),show_quantiles = T,\n",
    "               title = title, title_gp = gpar(fontsize = 14, fontface = \"bold\"))\n",
    "    heatmap_list[[i]] <- heatmap_i\n",
    "}\n",
    "\n",
    "\n",
    "table_i = table_list[[12]]\n",
    "colnames(table_i) = c(\"True\",\"Immune\",\"Species\",\"KEGG\",\"Metabolome\",\"Quest\",\"Omics\")\n",
    "title = names(table_list)[[12]]\n",
    "heatmap_i = densityHeatmap(table_i,show_column_names = F, \n",
    "               ylab=character(0),tick_label_gp = gpar(fontsize = 0), \n",
    "               quantile_gp = gpar(fontsize = 8),show_quantiles = T,\n",
    "               title = title, title_gp = gpar(fontsize = 14, fontface = \"bold\"))\n",
    "heatmap_list[[12]] <- heatmap_i\n",
    "\n",
    "# Draw the combined heatmap with a specific layout (2 rows and 5 columns)\n",
    "draw(Reduce('+', heatmap_list), background = \"transparent\",\n",
    "     row_title = \"Healthy\", row_title_gp = gpar(fontsize = 14, fontface = \"bold\"),\n",
    "     ht_gap = unit(-7, \"mm\"))\n",
    "dev.off()"
   ]
  },
  {
   "cell_type": "code",
   "execution_count": 7,
   "id": "2853970f",
   "metadata": {},
   "outputs": [
    {
     "data": {
      "text/html": [
       "<strong>png:</strong> 2"
      ],
      "text/latex": [
       "\\textbf{png:} 2"
      ],
      "text/markdown": [
       "**png:** 2"
      ],
      "text/plain": [
       "png \n",
       "  2 "
      ]
     },
     "metadata": {},
     "output_type": "display_data"
    }
   ],
   "source": [
    "pdf(\"output/AI_figure/ScoreDensity_Patient_full.pdf\", width = 18, height = 2.5)\n",
    "heatmap_list <- list()\n",
    "\n",
    "for (i in 1:11) {\n",
    "    table_list = patient_table_list\n",
    "    table_i = table_list[[i]]\n",
    "    colnames(table_i) = c(\"True\",\"Immune\",\"Species\",\"KEGG\",\"Metabolome\",\"Quest\",\"Omics\")\n",
    "    heatmap_i = densityHeatmap(table_i,\n",
    "               show_column_names = T, \n",
    "               column_names_gp = gpar(fontsize = 8, fontface = \"bold\"),column_names_rot = 45,\n",
    "               ylab=character(0),tick_label_gp = gpar(fontsize = 0), \n",
    "               quantile_gp = gpar(fontsize = 0),show_quantiles = T,\n",
    "               title = character(0))\n",
    "    heatmap_list[[i]] <- heatmap_i\n",
    "}\n",
    "\n",
    "\n",
    "table_i = table_list[[12]]\n",
    "colnames(table_i) = c(\"True\",\"Immune\",\"Species\",\"KEGG\",\"Metabolome\",\"Quest\",\"Omics\")\n",
    "heatmap_i = densityHeatmap(table_i,\n",
    "               show_column_names = T, \n",
    "               column_names_gp = gpar(fontsize = 8, fontface = \"bold\"),column_names_rot = 45,\n",
    "               ylab=character(0),tick_label_gp = gpar(fontsize = 0), \n",
    "               quantile_gp = gpar(fontsize = 8),show_quantiles = T,\n",
    "               title = character(0))\n",
    "heatmap_list[[12]] <- heatmap_i\n",
    "\n",
    "# Draw the combined heatmap with a specific layout (2 rows and 5 columns)\n",
    "draw(Reduce('+', heatmap_list), background = \"transparent\",\n",
    "     row_title = \"         Patient\", row_title_gp = gpar(fontsize = 14, fontface = \"bold\"),\n",
    "     ht_gap = unit(-7, \"mm\"))\n",
    "dev.off()"
   ]
  },
  {
   "cell_type": "markdown",
   "id": "030585a4",
   "metadata": {},
   "source": [
    "# Plot example for main plot"
   ]
  },
  {
   "cell_type": "code",
   "execution_count": 8,
   "id": "b604d2bf",
   "metadata": {},
   "outputs": [],
   "source": [
    "score_example = c('Role.Limitations.due.to.Physical.Health','Social.Functioning','Pain')\n",
    "omics_example = c(\"true\",\"immune\",\"specie\",\"kegg\",\"metabolome\",\"omics\")"
   ]
  },
  {
   "cell_type": "code",
   "execution_count": 9,
   "id": "db90dcd4",
   "metadata": {},
   "outputs": [],
   "source": [
    "healthylist = healthy_table_list[score_example]\n",
    "patientlist = patient_table_list[score_example]"
   ]
  },
  {
   "cell_type": "code",
   "execution_count": 10,
   "id": "77572c64",
   "metadata": {},
   "outputs": [
    {
     "name": "stdout",
     "output_type": "stream",
     "text": [
      "[1] 0.2682927\n",
      "[1] 0.07698171\n",
      "[1] 0.1128049\n",
      "[1] 3.850877\n",
      "[1] 0.6876218\n",
      "[1] 0.5240375\n"
     ]
    }
   ],
   "source": [
    "for(i in healthylist){\n",
    "    print(mean(i$true))\n",
    "}\n",
    "for(i in patientlist){\n",
    "    print(mean(i$true))\n",
    "}"
   ]
  },
  {
   "cell_type": "code",
   "execution_count": 11,
   "id": "31f720d2",
   "metadata": {
    "scrolled": true
   },
   "outputs": [
    {
     "data": {
      "text/html": [
       "<strong>png:</strong> 2"
      ],
      "text/latex": [
       "\\textbf{png:} 2"
      ],
      "text/markdown": [
       "**png:** 2"
      ],
      "text/plain": [
       "png \n",
       "  2 "
      ]
     },
     "metadata": {},
     "output_type": "display_data"
    }
   ],
   "source": [
    "pdf(\"output/AI_figure/Score_Density_Main.pdf\", width = 8.5, height = 4)\n",
    "heatmap_list <- list()\n",
    "\n",
    "for (i in 1:3) {\n",
    "    table_list = healthylist\n",
    "    table_i = table_list[[i]]\n",
    "    table_i = table_i[,omics_example]\n",
    "    colnames(table_i) = c(\"True\",\"Immune\",\"Species\",\"KEGG\",\"Metabolome\",\"Omics\")\n",
    "    heatmap_i = densityHeatmap(table_i,\n",
    "               show_column_names = T, \n",
    "               column_names_gp = gpar(fontsize = 8, fontface = \"bold\"),column_names_rot = 45,\n",
    "               ylab=character(0),tick_label_gp = gpar(fontsize = 0), \n",
    "               quantile_gp = gpar(fontsize = 0),show_quantiles = T,\n",
    "               title = 'Healthy', title_gp = gpar(fontsize = 14))\n",
    "    heatmap_list[[2*i-1]] <- heatmap_i\n",
    "    \n",
    "    table_list = patientlist\n",
    "    table_i = table_list[[i]]\n",
    "    table_i = table_i[,omics_example]\n",
    "    colnames(table_i) = c(\"True\",\"Immune\",\"Species\",\"KEGG\",\"Metabolome\",\"Omics\")\n",
    "    heatmap_i = densityHeatmap(table_i,\n",
    "               show_column_names = T, \n",
    "               column_names_gp = gpar(fontsize = 8, fontface = \"bold\"),column_names_rot = 45,\n",
    "               ylab=character(0),tick_label_gp = gpar(fontsize = 0), \n",
    "               quantile_gp = gpar(fontsize = 0),show_quantiles = T,\n",
    "               title = 'ME/CFS', title_gp = gpar(fontsize = 14))\n",
    "    heatmap_list[[2*i]] <- heatmap_i\n",
    "}\n",
    "\n",
    "heatmap_i = densityHeatmap(table_i,\n",
    "               show_column_names = T, \n",
    "               column_names_gp = gpar(fontsize = 8, fontface = \"bold\"),column_names_rot = 45,\n",
    "               ylab=character(0),tick_label_gp = gpar(fontsize = 0), \n",
    "               quantile_gp = gpar(fontsize = 8),show_quantiles = T,\n",
    "               title = 'ME/CFS', title_gp = gpar(fontsize = 14))\n",
    "heatmap_list[[6]] <- heatmap_i\n",
    "\n",
    "draw(Reduce('+', heatmap_list), background = \"transparent\",\n",
    "     column_title = \"Physical Health      Social Functioning              Pain               \",\n",
    "     column_title_gp = gpar(fontsize = 18,fontface = \"bold\"),\n",
    "     ht_gap = unit(-7, \"mm\"))\n",
    "dev.off()"
   ]
  }
 ],
 "metadata": {
  "kernelspec": {
   "display_name": "R [conda env:conda-py3_R] *",
   "language": "R",
   "name": "conda-env-conda-py3_R-r"
  },
  "language_info": {
   "codemirror_mode": "r",
   "file_extension": ".r",
   "mimetype": "text/x-r-source",
   "name": "R",
   "pygments_lexer": "r",
   "version": "4.1.3"
  }
 },
 "nbformat": 4,
 "nbformat_minor": 5
}
