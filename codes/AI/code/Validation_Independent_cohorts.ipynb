{
 "cells": [
  {
   "cell_type": "markdown",
   "id": "cfd8f31a",
   "metadata": {},
   "source": [
    "# Validation of DeepMECFS, DNN, GDBT with independent cohort\n",
    "# Also, example of using pretrained models\n",
    "\n",
    "- To use trained model, check the function named models_compare\n",
    "- Basically, to predict y with pretrained model, use ```y_pred = DNN.ScoreYModel(omics_score_model, adjusted_score_layer).predict(X)```"
   ]
  },
  {
   "cell_type": "code",
   "execution_count": 1,
   "id": "987bd12b",
   "metadata": {},
   "outputs": [],
   "source": [
    "import importlib.util\n",
    "import os\n",
    "\n",
    "def import_module_with_full_path(file_path):\n",
    "    base_filename = os.path.basename(file_path)\n",
    "    module_name = os.path.splitext(base_filename)[0]\n",
    "    module_spec = importlib.util.spec_from_file_location(module_name, file_path)\n",
    "    imported_module = importlib.util.module_from_spec(module_spec)\n",
    "    module_spec.loader.exec_module(imported_module)\n",
    "    return imported_module"
   ]
  },
  {
   "cell_type": "code",
   "execution_count": 2,
   "id": "304feefa",
   "metadata": {},
   "outputs": [],
   "source": [
    "root=\"../../..\""
   ]
  },
  {
   "cell_type": "code",
   "execution_count": 3,
   "id": "78f44333",
   "metadata": {},
   "outputs": [
    {
     "name": "stderr",
     "output_type": "stream",
     "text": [
      "2024-01-21 22:55:25.615678: I tensorflow/core/platform/cpu_feature_guard.cc:182] This TensorFlow binary is optimized to use available CPU instructions in performance-critical operations.\n",
      "To enable the following instructions: AVX2 AVX512F FMA, in other operations, rebuild TensorFlow with the appropriate compiler flags.\n",
      "2024-01-21 22:55:26.819065: W tensorflow/compiler/tf2tensorrt/utils/py_utils.cc:38] TF-TRT Warning: Could not find TensorRT\n"
     ]
    }
   ],
   "source": [
    "import numpy as np\n",
    "import pandas as pd\n",
    "from sklearn.preprocessing import StandardScaler\n",
    "\n",
    "import joblib\n",
    "import tensorflow as tf\n",
    "DNN = import_module_with_full_path(\"%s/codes/AI/module/DNN.py\"%(root))"
   ]
  },
  {
   "cell_type": "code",
   "execution_count": 4,
   "id": "01bb7e46",
   "metadata": {},
   "outputs": [],
   "source": [
    "def load(model_name, model_path):\n",
    "    feature_meta_path = \"%s/codes/AI/input/feature_meta\"%(root)\n",
    "    feature_meta = pd.read_csv(\"%s/%s_feature_meta.csv\"%(feature_meta_path, model_name), index_col=0)\n",
    "    omics_score_model = tf.keras.models.load_model(\"%s/DNN_score_%s\"%(model_path, model_name))\n",
    "    adjusted_score_layer = tf.keras.models.load_model(\"%s/Adjust_score_y_%s\"%(model_path, model_name))\n",
    "    DNN_model = tf.keras.models.load_model(\"%s/DNN_%s\"%(model_path, model_name))\n",
    "    GDBT_model = joblib.load(\"%s/GDBT_%s.joblib\"%(model_path, model_name))\n",
    "    return feature_meta, omics_score_model, adjusted_score_layer, DNN_model, GDBT_model"
   ]
  },
  {
   "cell_type": "code",
   "execution_count": 5,
   "id": "da3be083",
   "metadata": {},
   "outputs": [],
   "source": [
    "def roc_curve_plot(y_true_list, y_prob_list, title):\n",
    "    model_name_list = ['immune','specie', 'kegg', 'metabolome', 'quest','omics']\n",
    "    colors = sns.color_palette(\"Set2\", 6)\n",
    "    color_dict = dict(zip(model_name_list, colors))\n",
    "\n",
    "    assert(y_true_list.keys() == y_prob_list.keys())\n",
    "    name_list = list(y_true_list.keys())\n",
    "    sns.set(style='ticks', font_scale=0.95, font='sans-serif')\n",
    "    fig = plt.figure(figsize=(4.5,4), constrained_layout=True)\n",
    "    \n",
    "    for i in name_list:\n",
    "        y_true_i, y_prob_i = y_true_list[i], y_prob_list[i]\n",
    "        fpr, tpr, _ = sk_metrics.roc_curve(y_true_i, y_prob_i)\n",
    "        roc_auc = sk_metrics.auc(fpr, tpr)"
   ]
  },
  {
   "cell_type": "code",
   "execution_count": 6,
   "id": "10aa1e5d",
   "metadata": {},
   "outputs": [],
   "source": [
    "from sklearn.metrics import accuracy_score, precision_score, recall_score, f1_score\n",
    "\n",
    "def calculate_metrics(y_true, y_pred):\n",
    "    accuracy = accuracy_score(y_true, y_pred)\n",
    "    precision = precision_score(y_true, y_pred)\n",
    "    recall = recall_score(y_true, y_pred)\n",
    "    f1 = f1_score(y_true, y_pred)\n",
    "    return accuracy, precision, recall, f1"
   ]
  },
  {
   "cell_type": "code",
   "execution_count": 7,
   "id": "8c3ee365",
   "metadata": {},
   "outputs": [],
   "source": [
    "def models_compare(X, y, omics_score_model, adjusted_score_layer, DNN_model, GDBT_model, feature_coverage=1.0):\n",
    "    y_true = y\n",
    "    metrics_table = pd.DataFrame(index=['DNN_score','DNN', 'GDBT'], \n",
    "                                 columns=['accuracy', 'precision', 'recall', 'f1-score'])\n",
    "    y_pred_DNN_score = DNN.ScoreYModel(omics_score_model, adjusted_score_layer).predict(X)\n",
    "    y_pred_DNN_score = (y_pred_DNN_score > 0.5).astype(int).flatten()\n",
    "    metrics_table.loc['DNN_score',:] = calculate_metrics(y_true, y_pred_DNN_score)\n",
    "    y_pred_DNN = DNN_model.predict(X)\n",
    "    y_pred_DNN = (y_pred_DNN > 0.5).astype(int).flatten()\n",
    "    metrics_table.loc['DNN',:] = calculate_metrics(y_true, y_pred_DNN)\n",
    "    metrics_table.loc['GDBT',:] = calculate_metrics(y_true, GDBT_model.predict(X))\n",
    "    metrics_table.loc[:,'feature_coverage'] = feature_coverage\n",
    "    print(y.to_numpy())\n",
    "    print(y_pred_DNN_score)\n",
    "    print(y_pred_DNN)\n",
    "    print(GDBT_model.predict(X))\n",
    "    return metrics_table"
   ]
  },
  {
   "cell_type": "code",
   "execution_count": 8,
   "id": "c128c150",
   "metadata": {},
   "outputs": [],
   "source": [
    "model_folder = \"%s/codes/AI/output/cross_validation/full_model/model\"%(root)"
   ]
  },
  {
   "cell_type": "code",
   "execution_count": 9,
   "id": "0922d2ea",
   "metadata": {},
   "outputs": [],
   "source": [
    "metrics_list = []"
   ]
  },
  {
   "cell_type": "markdown",
   "id": "eb92b4cc",
   "metadata": {},
   "source": [
    "---\n",
    "# Columbia Microbiome\n",
    "## Specie"
   ]
  },
  {
   "cell_type": "code",
   "execution_count": 10,
   "id": "8d3efa1e",
   "metadata": {},
   "outputs": [],
   "source": [
    "model_name = 'specie'\n",
    "feature_meta, omics_score_model, adjusted_score_layer, DNN_model, GDBT_model = load(model_name, model_folder)"
   ]
  },
  {
   "cell_type": "code",
   "execution_count": 11,
   "id": "6663a742",
   "metadata": {},
   "outputs": [],
   "source": [
    "# Columbia, Cell Host and Microbe, 2023\n",
    "data = pd.read_csv(\"%s/data/indenpendent_cohorts/columbia/metaphlan4_species_full.csv\"%(root), index_col=0).transpose()\n",
    "meta = pd.read_table(\"%s/data/indenpendent_cohorts/columbia/SraRunTable.txt\"%(root), sep = \",\", index_col=0)"
   ]
  },
  {
   "cell_type": "code",
   "execution_count": 12,
   "id": "ead929cd",
   "metadata": {},
   "outputs": [
    {
     "name": "stdout",
     "output_type": "stream",
     "text": [
      "Test dataset feature #1242\n",
      "Feature Coverage 1.0\n"
     ]
    }
   ],
   "source": [
    "overlap_len = len(set(data.columns).intersection(feature_meta.index))\n",
    "#print(\"Model feature #%s\"%(len(feature_meta.index)))\n",
    "print(\"Test dataset feature #%s\"%(len(data.columns)))\n",
    "#print(\"Overlap #%s\"%(overlap_len))\n",
    "feature_coverage = overlap_len/len(feature_meta.index)\n",
    "print(\"Feature Coverage %s\"%(feature_coverage))"
   ]
  },
  {
   "cell_type": "code",
   "execution_count": 13,
   "id": "6711d944",
   "metadata": {
    "scrolled": true
   },
   "outputs": [
    {
     "name": "stdout",
     "output_type": "stream",
     "text": [
      "6/6 [==============================] - 1s 3ms/step\n",
      "6/6 [==============================] - 0s 1ms/step\n",
      "6/6 [==============================] - 0s 2ms/step\n",
      "[0. 0. 1. 1. 1. 0. 0. 0. 0. 0. 0. 1. 1. 1. 0. 0. 1. 1. 0. 0. 1. 1. 0. 1.\n",
      " 1. 1. 0. 0. 1. 0. 1. 0. 1. 1. 1. 1. 1. 0. 0. 0. 1. 0. 1. 1. 1. 1. 1. 0.\n",
      " 1. 1. 0. 1. 0. 1. 1. 1. 1. 0. 1. 0. 1. 0. 0. 0. 1. 1. 0. 1. 1. 1. 0. 1.\n",
      " 1. 1. 0. 1. 1. 0. 1. 1. 1. 1. 0. 0. 0. 0. 0. 0. 0. 0. 0. 1. 1. 0. 0. 0.\n",
      " 0. 0. 0. 1. 0. 0. 1. 0. 0. 1. 0. 0. 0. 0. 1. 0. 0. 1. 0. 1. 1. 0. 1. 0.\n",
      " 0. 1. 1. 1. 1. 0. 1. 1. 0. 0. 1. 0. 1. 1. 1. 0. 1. 1. 1. 1. 1. 1. 1. 0.\n",
      " 0. 1. 1. 0. 0. 1. 0. 1. 0. 1. 1. 1. 1. 0. 1. 0. 0. 1. 1. 1. 0. 1. 1. 0.\n",
      " 0. 0. 0. 0. 1. 0. 0. 1. 0. 0. 1. 0. 1. 0. 1. 0. 1. 0. 1. 1. 1. 0.]\n",
      "[0 0 1 0 0 0 0 1 0 0 0 1 0 1 0 1 1 1 0 0 0 1 1 1 1 1 1 0 1 0 1 1 1 0 1 1 0\n",
      " 1 0 1 1 1 1 1 1 0 1 0 0 1 1 0 0 0 0 1 1 1 1 0 1 0 1 1 1 1 0 1 1 0 1 1 1 1\n",
      " 0 1 1 0 1 1 0 1 1 0 0 1 0 1 0 0 1 1 1 0 0 1 0 0 0 0 1 0 1 0 1 1 0 0 0 1 1\n",
      " 0 1 0 1 1 1 0 1 0 0 1 0 1 1 0 1 1 0 0 1 0 1 1 1 0 1 1 1 1 0 1 0 1 0 1 1 0\n",
      " 0 0 1 1 1 1 1 1 1 0 1 0 0 1 1 0 0 1 1 0 1 0 0 0 0 0 1 1 0 1 1 0 0 0 1 0 0\n",
      " 1 1 1 1 0]\n",
      "[0 0 0 0 1 0 1 0 1 0 0 0 1 1 0 1 1 1 0 0 0 0 1 1 1 1 0 0 0 1 0 1 1 0 1 1 0\n",
      " 0 0 1 1 0 1 1 1 0 1 0 1 1 1 1 0 0 1 1 1 1 1 0 1 1 1 1 1 1 0 0 0 0 1 1 1 0\n",
      " 0 0 1 1 1 1 0 1 1 0 0 1 0 0 0 0 1 1 1 0 0 1 0 1 0 0 1 0 1 0 1 1 0 0 0 0 1\n",
      " 0 1 1 1 1 0 0 1 0 0 1 1 1 1 0 1 1 0 0 1 0 1 1 0 0 1 1 1 1 0 1 0 1 0 1 1 0\n",
      " 0 0 0 1 1 1 1 1 1 0 1 1 0 1 1 0 0 1 1 1 1 1 0 0 0 1 1 1 1 1 0 0 0 0 1 0 1\n",
      " 0 1 1 0 0]\n",
      "[0 0 1 0 1 1 0 0 1 0 0 1 1 1 1 1 1 1 1 0 0 1 1 1 1 1 0 0 0 0 1 1 1 0 1 0 0\n",
      " 0 0 0 0 0 1 1 1 0 0 0 1 1 1 1 0 0 1 1 1 1 1 0 1 1 1 1 1 1 0 1 1 0 1 1 0 0\n",
      " 0 0 1 0 1 1 1 1 1 0 0 1 0 0 0 0 1 0 1 0 0 1 0 1 0 0 1 0 1 0 1 1 0 0 0 0 1\n",
      " 0 0 1 0 1 1 0 1 1 0 1 1 1 1 0 1 1 0 0 1 0 1 1 1 0 1 1 0 1 1 1 0 1 0 1 1 0\n",
      " 0 0 1 1 1 0 1 1 1 0 0 1 0 1 1 0 0 1 1 1 1 1 1 0 1 1 1 1 0 1 1 0 0 0 1 1 1\n",
      " 0 1 1 0 0]\n"
     ]
    }
   ],
   "source": [
    "X = data.reindex(columns=feature_meta.index, fill_value=0)\n",
    "y = meta.loc[X.index, 'sampletype'].map({'Control': 0, 'Case': 1})\n",
    "X = X.astype(\"float32\")\n",
    "y = y.astype(\"float32\")\n",
    "metrics = models_compare(X, y, omics_score_model, adjusted_score_layer, DNN_model, GDBT_model, feature_coverage)\n",
    "metrics_list.append(metrics)"
   ]
  },
  {
   "cell_type": "code",
   "execution_count": 14,
   "id": "0386f6e5",
   "metadata": {},
   "outputs": [
    {
     "data": {
      "text/html": [
       "<div>\n",
       "<style scoped>\n",
       "    .dataframe tbody tr th:only-of-type {\n",
       "        vertical-align: middle;\n",
       "    }\n",
       "\n",
       "    .dataframe tbody tr th {\n",
       "        vertical-align: top;\n",
       "    }\n",
       "\n",
       "    .dataframe thead th {\n",
       "        text-align: right;\n",
       "    }\n",
       "</style>\n",
       "<table border=\"1\" class=\"dataframe\">\n",
       "  <thead>\n",
       "    <tr style=\"text-align: right;\">\n",
       "      <th></th>\n",
       "      <th>accuracy</th>\n",
       "      <th>precision</th>\n",
       "      <th>recall</th>\n",
       "      <th>f1-score</th>\n",
       "      <th>feature_coverage</th>\n",
       "    </tr>\n",
       "  </thead>\n",
       "  <tbody>\n",
       "    <tr>\n",
       "      <th>DNN_score</th>\n",
       "      <td>0.721053</td>\n",
       "      <td>0.716981</td>\n",
       "      <td>0.767677</td>\n",
       "      <td>0.741463</td>\n",
       "      <td>1.0</td>\n",
       "    </tr>\n",
       "    <tr>\n",
       "      <th>DNN</th>\n",
       "      <td>0.678947</td>\n",
       "      <td>0.682692</td>\n",
       "      <td>0.717172</td>\n",
       "      <td>0.699507</td>\n",
       "      <td>1.0</td>\n",
       "    </tr>\n",
       "    <tr>\n",
       "      <th>GDBT</th>\n",
       "      <td>0.7</td>\n",
       "      <td>0.694444</td>\n",
       "      <td>0.757576</td>\n",
       "      <td>0.724638</td>\n",
       "      <td>1.0</td>\n",
       "    </tr>\n",
       "  </tbody>\n",
       "</table>\n",
       "</div>"
      ],
      "text/plain": [
       "           accuracy precision    recall  f1-score  feature_coverage\n",
       "DNN_score  0.721053  0.716981  0.767677  0.741463               1.0\n",
       "DNN        0.678947  0.682692  0.717172  0.699507               1.0\n",
       "GDBT            0.7  0.694444  0.757576  0.724638               1.0"
      ]
     },
     "execution_count": 14,
     "metadata": {},
     "output_type": "execute_result"
    }
   ],
   "source": [
    "metrics"
   ]
  },
  {
   "cell_type": "markdown",
   "id": "7aa46c8d",
   "metadata": {},
   "source": [
    "## KEGG"
   ]
  },
  {
   "cell_type": "code",
   "execution_count": 15,
   "id": "23d9ac0a",
   "metadata": {},
   "outputs": [],
   "source": [
    "model_name = 'kegg'\n",
    "feature_meta, omics_score_model, adjusted_score_layer, DNN_model, GDBT_model = load(model_name, model_folder)"
   ]
  },
  {
   "cell_type": "code",
   "execution_count": 16,
   "id": "f2876bb0",
   "metadata": {},
   "outputs": [],
   "source": [
    "# Columbia, Cell Host and Microbe, 2023\n",
    "data = pd.read_table(\"%s/data/indenpendent_cohorts/columbia/kegg_gene_normalized.txt\"%(root), sep = \"\\t\", index_col=0).transpose()\n",
    "data = data.iloc[1:,:]\n",
    "meta = pd.read_table(\"%s/data/indenpendent_cohorts/columbia/SraRunTable.txt\"%(root), sep = \",\", index_col=0)"
   ]
  },
  {
   "cell_type": "code",
   "execution_count": 17,
   "id": "b72b34c1",
   "metadata": {},
   "outputs": [
    {
     "name": "stdout",
     "output_type": "stream",
     "text": [
      "Test dataset feature #5897\n",
      "Feature Coverage 0.8759787825208386\n"
     ]
    }
   ],
   "source": [
    "overlap_len = len(set(data.columns).intersection(feature_meta.index))\n",
    "#print(\"Model feature #%s\"%(len(feature_meta.index)))\n",
    "print(\"Test dataset feature #%s\"%(len(data.columns)))\n",
    "#print(\"Overlap #%s\"%(overlap_len))\n",
    "feature_coverage = overlap_len/len(feature_meta.index)\n",
    "print(\"Feature Coverage %s\"%(feature_coverage))"
   ]
  },
  {
   "cell_type": "code",
   "execution_count": 18,
   "id": "d0a02d91",
   "metadata": {},
   "outputs": [
    {
     "name": "stdout",
     "output_type": "stream",
     "text": [
      "6/6 [==============================] - 0s 3ms/step\n",
      "6/6 [==============================] - 0s 1ms/step\n",
      "6/6 [==============================] - 0s 3ms/step\n",
      "[0. 0. 1. 1. 1. 0. 0. 0. 0. 0. 0. 1. 1. 1. 0. 0. 1. 1. 0. 0. 1. 1. 0. 1.\n",
      " 1. 1. 0. 0. 1. 0. 1. 0. 1. 1. 1. 1. 1. 0. 0. 0. 1. 0. 1. 1. 1. 1. 1. 0.\n",
      " 1. 1. 0. 1. 0. 1. 1. 1. 1. 0. 1. 0. 1. 0. 0. 0. 1. 1. 0. 1. 1. 1. 0. 1.\n",
      " 1. 1. 0. 1. 1. 0. 1. 1. 1. 1. 0. 0. 0. 0. 0. 0. 0. 0. 0. 1. 1. 0. 0. 0.\n",
      " 0. 0. 0. 1. 0. 0. 1. 0. 0. 1. 0. 0. 0. 0. 1. 0. 0. 1. 0. 1. 1. 0. 1. 0.\n",
      " 0. 1. 1. 1. 1. 0. 1. 1. 0. 0. 1. 0. 1. 1. 1. 0. 1. 1. 1. 1. 1. 1. 1. 0.\n",
      " 0. 1. 1. 0. 0. 1. 0. 1. 0. 1. 1. 1. 1. 0. 1. 0. 0. 1. 1. 1. 0. 1. 1. 0.\n",
      " 0. 0. 0. 0. 1. 0. 0. 1. 0. 0. 1. 0. 1. 0. 1. 0. 1. 0. 1. 1. 1. 0.]\n",
      "[1 0 0 0 1 1 0 0 0 0 0 0 0 1 0 0 0 0 0 0 0 0 1 0 1 1 0 0 0 0 0 0 0 0 0 1 1\n",
      " 0 0 0 0 0 1 1 1 0 0 0 0 1 0 1 0 0 1 0 1 0 1 0 0 1 1 1 1 1 0 1 0 0 1 0 0 0\n",
      " 0 0 0 1 1 0 0 0 0 0 0 1 0 0 0 1 0 0 0 0 1 1 0 0 0 1 0 0 1 0 0 0 0 0 0 1 1\n",
      " 1 0 1 1 1 0 1 1 0 0 0 0 1 1 0 1 0 0 0 1 0 1 1 0 0 1 0 1 0 0 1 0 1 0 0 1 0\n",
      " 0 0 0 0 1 1 1 0 1 0 1 1 0 0 1 0 0 1 0 0 1 0 0 0 0 0 1 1 1 0 0 0 0 0 0 0 0\n",
      " 0 1 0 0 0]\n",
      "[1 1 1 1 1 1 1 1 1 1 1 1 1 1 1 1 1 1 1 1 1 1 1 1 1 1 1 1 1 1 1 1 1 1 1 1 1\n",
      " 1 1 1 1 1 1 1 1 1 1 1 1 1 1 1 1 1 1 1 1 1 1 1 1 1 1 1 1 1 1 1 1 1 1 1 1 1\n",
      " 1 1 1 1 1 1 1 1 1 1 1 1 1 1 1 1 1 1 1 1 1 1 1 1 1 1 1 1 1 1 1 1 1 1 1 1 1\n",
      " 1 1 1 1 1 1 1 1 1 1 1 1 1 1 1 1 1 1 1 1 1 1 1 1 1 1 1 1 1 1 1 1 1 1 1 1 1\n",
      " 1 1 1 1 1 1 1 1 1 1 1 1 1 1 1 1 1 1 1 1 1 1 1 1 1 1 1 1 1 1 1 1 1 1 1 1 1\n",
      " 1 1 1 1 1]\n",
      "[1 1 1 1 1 1 1 1 1 1 1 1 1 1 1 1 1 1 1 1 1 1 1 1 1 1 1 1 1 1 1 1 1 1 1 1 1\n",
      " 1 1 1 1 1 1 1 1 1 1 1 1 1 1 1 1 1 1 1 1 1 1 1 1 1 1 1 1 1 1 1 1 1 1 1 1 1\n",
      " 1 1 1 1 1 1 1 1 1 1 1 1 1 1 1 1 1 1 1 1 1 1 1 1 1 1 1 1 1 1 1 1 1 1 1 1 1\n",
      " 1 1 1 1 1 1 1 1 1 1 1 1 1 1 1 1 1 1 1 1 1 1 1 1 1 1 1 1 1 1 1 1 1 1 1 1 1\n",
      " 1 1 1 1 1 1 1 1 1 1 1 1 1 1 1 1 1 1 1 1 1 1 1 1 1 1 1 1 1 1 1 1 1 1 1 1 1\n",
      " 1 1 1 1 1]\n"
     ]
    }
   ],
   "source": [
    "# Columbia, Cell Host and Microbe, 2023\n",
    "X = data.reindex(columns=feature_meta.index, fill_value=0)\n",
    "y = meta.loc[X.index, 'sampletype'].map({'Control': 0, 'Case': 1})\n",
    "X = X.astype(\"float32\")\n",
    "y = y.astype(\"float32\")\n",
    "\n",
    "metrics = models_compare(X, y, omics_score_model, adjusted_score_layer, DNN_model, GDBT_model, feature_coverage)\n",
    "metrics_list.append(metrics)"
   ]
  },
  {
   "cell_type": "code",
   "execution_count": 19,
   "id": "15749c31",
   "metadata": {},
   "outputs": [
    {
     "data": {
      "text/html": [
       "<div>\n",
       "<style scoped>\n",
       "    .dataframe tbody tr th:only-of-type {\n",
       "        vertical-align: middle;\n",
       "    }\n",
       "\n",
       "    .dataframe tbody tr th {\n",
       "        vertical-align: top;\n",
       "    }\n",
       "\n",
       "    .dataframe thead th {\n",
       "        text-align: right;\n",
       "    }\n",
       "</style>\n",
       "<table border=\"1\" class=\"dataframe\">\n",
       "  <thead>\n",
       "    <tr style=\"text-align: right;\">\n",
       "      <th></th>\n",
       "      <th>accuracy</th>\n",
       "      <th>precision</th>\n",
       "      <th>recall</th>\n",
       "      <th>f1-score</th>\n",
       "      <th>feature_coverage</th>\n",
       "    </tr>\n",
       "  </thead>\n",
       "  <tbody>\n",
       "    <tr>\n",
       "      <th>DNN_score</th>\n",
       "      <td>0.584211</td>\n",
       "      <td>0.65625</td>\n",
       "      <td>0.424242</td>\n",
       "      <td>0.515337</td>\n",
       "      <td>0.875979</td>\n",
       "    </tr>\n",
       "    <tr>\n",
       "      <th>DNN</th>\n",
       "      <td>0.521053</td>\n",
       "      <td>0.521053</td>\n",
       "      <td>1.0</td>\n",
       "      <td>0.685121</td>\n",
       "      <td>0.875979</td>\n",
       "    </tr>\n",
       "    <tr>\n",
       "      <th>GDBT</th>\n",
       "      <td>0.521053</td>\n",
       "      <td>0.521053</td>\n",
       "      <td>1.0</td>\n",
       "      <td>0.685121</td>\n",
       "      <td>0.875979</td>\n",
       "    </tr>\n",
       "  </tbody>\n",
       "</table>\n",
       "</div>"
      ],
      "text/plain": [
       "           accuracy precision    recall  f1-score  feature_coverage\n",
       "DNN_score  0.584211   0.65625  0.424242  0.515337          0.875979\n",
       "DNN        0.521053  0.521053       1.0  0.685121          0.875979\n",
       "GDBT       0.521053  0.521053       1.0  0.685121          0.875979"
      ]
     },
     "execution_count": 19,
     "metadata": {},
     "output_type": "execute_result"
    }
   ],
   "source": [
    "metrics"
   ]
  },
  {
   "cell_type": "markdown",
   "id": "7fc7c916",
   "metadata": {},
   "source": [
    "# Raijmakers, Ruud P H et al. 2020, Microbiome\n",
    "## Specie"
   ]
  },
  {
   "cell_type": "code",
   "execution_count": 20,
   "id": "280e8284",
   "metadata": {},
   "outputs": [],
   "source": [
    "model_name = 'specie'\n",
    "feature_meta, omics_score_model, adjusted_score_layer, DNN_model, GDBT_model = load(model_name, model_folder)"
   ]
  },
  {
   "cell_type": "code",
   "execution_count": 21,
   "id": "4dba4fa6",
   "metadata": {},
   "outputs": [],
   "source": [
    "data = pd.read_csv(\"%s/data/indenpendent_cohorts/Raijmakers/metaphlan4_species_full.csv\"%(root), \n",
    "                   index_col=0).transpose()"
   ]
  },
  {
   "cell_type": "code",
   "execution_count": 22,
   "id": "a331edaa",
   "metadata": {},
   "outputs": [
    {
     "name": "stdout",
     "output_type": "stream",
     "text": [
      "Test dataset feature #1165\n",
      "Feature Coverage 1.0\n"
     ]
    }
   ],
   "source": [
    "overlap_len = len(set(data.columns).intersection(feature_meta.index))\n",
    "#print(\"Model feature #%s\"%(len(feature_meta.index)))\n",
    "print(\"Test dataset feature #%s\"%(len(data.columns)))\n",
    "#print(\"Overlap #%s\"%(overlap_len))\n",
    "feature_coverage = overlap_len/len(feature_meta.index)\n",
    "print(\"Feature Coverage %s\"%(feature_coverage))"
   ]
  },
  {
   "cell_type": "code",
   "execution_count": 23,
   "id": "2bad4685",
   "metadata": {},
   "outputs": [],
   "source": [
    "filter_name = [name for name in data.index if 'CFS' in name or 'HV' in name]\n",
    "data = data.loc[filter_name,:]"
   ]
  },
  {
   "cell_type": "code",
   "execution_count": 24,
   "id": "1876af80",
   "metadata": {},
   "outputs": [
    {
     "name": "stdout",
     "output_type": "stream",
     "text": [
      "3/3 [==============================] - 0s 3ms/step\n",
      "3/3 [==============================] - 0s 1ms/step\n",
      "3/3 [==============================] - 0s 2ms/step\n",
      "[1. 1. 1. 1. 1. 1. 1. 1. 1. 1. 1. 1. 1. 1. 1. 1. 1. 1. 1. 1. 1. 1. 1. 1.\n",
      " 1. 1. 1. 1. 1. 1. 1. 1. 1. 1. 1. 1. 1. 1. 1. 1. 1. 1. 1. 1. 1. 1. 1. 1.\n",
      " 1. 0. 0. 0. 0. 0. 0. 0. 0. 0. 0. 0. 0. 0. 0. 0. 0. 0. 0. 0. 0. 0. 0. 0.\n",
      " 0. 0. 0. 0. 0. 0. 0. 0. 0. 0. 0. 0. 0. 0. 0. 0. 0. 0. 0. 0. 0.]\n",
      "[0 1 1 0 0 0 1 0 0 0 1 1 0 0 1 1 1 1 1 1 1 0 1 1 1 1 0 1 1 1 1 1 1 1 1 1 0\n",
      " 1 1 1 1 1 1 1 0 1 1 0 1 1 1 1 1 0 0 0 0 1 0 1 0 0 1 1 1 0 0 1 1 1 1 1 0 0\n",
      " 1 0 0 1 0 0 0 0 0 0 1 1 0 1 0 1 0 0 0]\n",
      "[0 1 0 0 1 1 1 0 0 1 1 1 0 0 1 1 1 1 1 0 0 0 1 0 1 0 0 1 1 0 1 1 0 1 0 1 0\n",
      " 1 1 1 1 1 1 1 0 0 1 0 1 0 0 0 0 0 0 0 0 0 0 0 0 0 1 0 0 0 0 0 0 0 0 0 0 0\n",
      " 0 0 0 1 0 0 0 0 0 0 0 0 0 0 0 0 0 0 0]\n",
      "[1 1 1 1 1 0 0 1 0 1 0 1 1 0 1 1 1 1 1 0 0 1 0 0 0 0 0 1 1 1 1 1 0 1 0 0 0\n",
      " 1 1 0 1 1 1 1 0 1 1 0 0 0 0 0 0 0 0 0 0 0 0 0 0 1 1 1 0 1 1 0 0 0 0 0 0 0\n",
      " 0 1 0 1 0 0 0 0 0 0 0 0 0 0 0 0 0 0 0]\n"
     ]
    }
   ],
   "source": [
    "X = data.reindex(columns=feature_meta.index, fill_value=0)\n",
    "y = [0 if 'HV' in i else 1 for i in data.index]\n",
    "y = pd.Series(y, index=data.index)\n",
    "X = X.astype(\"float32\")\n",
    "y = y.astype(\"float32\")\n",
    "metrics = models_compare(X, y, omics_score_model, adjusted_score_layer, DNN_model, GDBT_model, feature_coverage)\n",
    "metrics_list.append(metrics)"
   ]
  },
  {
   "cell_type": "code",
   "execution_count": 25,
   "id": "48a6b376",
   "metadata": {},
   "outputs": [
    {
     "data": {
      "text/html": [
       "<div>\n",
       "<style scoped>\n",
       "    .dataframe tbody tr th:only-of-type {\n",
       "        vertical-align: middle;\n",
       "    }\n",
       "\n",
       "    .dataframe tbody tr th {\n",
       "        vertical-align: top;\n",
       "    }\n",
       "\n",
       "    .dataframe thead th {\n",
       "        text-align: right;\n",
       "    }\n",
       "</style>\n",
       "<table border=\"1\" class=\"dataframe\">\n",
       "  <thead>\n",
       "    <tr style=\"text-align: right;\">\n",
       "      <th></th>\n",
       "      <th>accuracy</th>\n",
       "      <th>precision</th>\n",
       "      <th>recall</th>\n",
       "      <th>f1-score</th>\n",
       "      <th>feature_coverage</th>\n",
       "    </tr>\n",
       "  </thead>\n",
       "  <tbody>\n",
       "    <tr>\n",
       "      <th>DNN_score</th>\n",
       "      <td>0.634409</td>\n",
       "      <td>0.636364</td>\n",
       "      <td>0.714286</td>\n",
       "      <td>0.673077</td>\n",
       "      <td>1.0</td>\n",
       "    </tr>\n",
       "    <tr>\n",
       "      <th>DNN</th>\n",
       "      <td>0.763441</td>\n",
       "      <td>0.935484</td>\n",
       "      <td>0.591837</td>\n",
       "      <td>0.725</td>\n",
       "      <td>1.0</td>\n",
       "    </tr>\n",
       "    <tr>\n",
       "      <th>GDBT</th>\n",
       "      <td>0.709677</td>\n",
       "      <td>0.805556</td>\n",
       "      <td>0.591837</td>\n",
       "      <td>0.682353</td>\n",
       "      <td>1.0</td>\n",
       "    </tr>\n",
       "  </tbody>\n",
       "</table>\n",
       "</div>"
      ],
      "text/plain": [
       "           accuracy precision    recall  f1-score  feature_coverage\n",
       "DNN_score  0.634409  0.636364  0.714286  0.673077               1.0\n",
       "DNN        0.763441  0.935484  0.591837     0.725               1.0\n",
       "GDBT       0.709677  0.805556  0.591837  0.682353               1.0"
      ]
     },
     "execution_count": 25,
     "metadata": {},
     "output_type": "execute_result"
    }
   ],
   "source": [
    "metrics"
   ]
  },
  {
   "cell_type": "markdown",
   "id": "eac24bee",
   "metadata": {},
   "source": [
    "## KEGG"
   ]
  },
  {
   "cell_type": "code",
   "execution_count": 26,
   "id": "198255b6",
   "metadata": {},
   "outputs": [],
   "source": [
    "model_name = 'kegg'\n",
    "feature_meta, omics_score_model, adjusted_score_layer, DNN_model, GDBT_model = load(model_name, model_folder)"
   ]
  },
  {
   "cell_type": "code",
   "execution_count": 27,
   "id": "1be06a5b",
   "metadata": {},
   "outputs": [],
   "source": [
    "data = pd.read_table(\"%s/data/indenpendent_cohorts/Raijmakers/kegg_gene_normalized.txt\"%(root),\n",
    "                     sep = \"\\t\", index_col=0).transpose()\n",
    "data.index = [i.split('.')[0] for i in data.index]"
   ]
  },
  {
   "cell_type": "code",
   "execution_count": 28,
   "id": "4341c5d7",
   "metadata": {},
   "outputs": [
    {
     "name": "stdout",
     "output_type": "stream",
     "text": [
      "Test dataset feature #8485\n",
      "Feature Coverage 1.0\n"
     ]
    }
   ],
   "source": [
    "overlap_len = len(set(data.columns).intersection(feature_meta.index))\n",
    "#print(\"Model feature #%s\"%(len(feature_meta.index)))\n",
    "print(\"Test dataset feature #%s\"%(len(data.columns)))\n",
    "#print(\"Overlap #%s\"%(overlap_len))\n",
    "feature_coverage = overlap_len/len(feature_meta.index)\n",
    "print(\"Feature Coverage %s\"%(feature_coverage))"
   ]
  },
  {
   "cell_type": "code",
   "execution_count": 29,
   "id": "527ab265",
   "metadata": {},
   "outputs": [],
   "source": [
    "filter_name = [name for name in data.index if 'CFS' in name or 'HV' in name]\n",
    "data = data.loc[filter_name,:]"
   ]
  },
  {
   "cell_type": "code",
   "execution_count": 30,
   "id": "3d57806f",
   "metadata": {},
   "outputs": [
    {
     "name": "stdout",
     "output_type": "stream",
     "text": [
      "WARNING:tensorflow:5 out of the last 16 calls to <function Model.make_predict_function.<locals>.predict_function at 0x2aae39c3d9d0> triggered tf.function retracing. Tracing is expensive and the excessive number of tracings could be due to (1) creating @tf.function repeatedly in a loop, (2) passing tensors with different shapes, (3) passing Python objects instead of tensors. For (1), please define your @tf.function outside of the loop. For (2), @tf.function has reduce_retracing=True option that can avoid unnecessary retracing. For (3), please refer to https://www.tensorflow.org/guide/function#controlling_retracing and https://www.tensorflow.org/api_docs/python/tf/function for  more details.\n",
      "3/3 [==============================] - 0s 4ms/step\n",
      "WARNING:tensorflow:5 out of the last 13 calls to <function Model.make_predict_function.<locals>.predict_function at 0x2aae3948f8b0> triggered tf.function retracing. Tracing is expensive and the excessive number of tracings could be due to (1) creating @tf.function repeatedly in a loop, (2) passing tensors with different shapes, (3) passing Python objects instead of tensors. For (1), please define your @tf.function outside of the loop. For (2), @tf.function has reduce_retracing=True option that can avoid unnecessary retracing. For (3), please refer to https://www.tensorflow.org/guide/function#controlling_retracing and https://www.tensorflow.org/api_docs/python/tf/function for  more details.\n",
      "3/3 [==============================] - 0s 2ms/step\n",
      "3/3 [==============================] - 1s 3ms/step\n",
      "[1. 1. 1. 1. 1. 1. 1. 1. 1. 1. 1. 1. 1. 1. 1. 1. 1. 1. 1. 1. 1. 1. 1. 1.\n",
      " 1. 1. 1. 1. 1. 1. 1. 1. 1. 1. 1. 1. 1. 1. 1. 1. 1. 1. 1. 1. 1. 1. 1. 1.\n",
      " 1. 0. 0. 0. 0. 0. 0. 0. 0. 0. 0. 0. 0. 0. 0. 0. 0. 0. 0. 0. 0. 0. 0. 0.\n",
      " 0. 0. 0. 0. 0. 0. 0. 0. 0. 0. 0. 0. 0. 0. 0. 0. 0. 0. 0. 0. 0.]\n",
      "[0 1 1 0 1 1 0 1 1 0 0 1 1 0 0 1 1 1 1 1 0 1 0 0 0 1 1 1 1 1 0 0 0 0 0 0 0\n",
      " 1 1 1 0 1 1 0 1 0 0 0 1 0 0 0 0 0 0 0 1 1 0 0 0 0 1 1 0 1 0 1 0 0 1 0 1 0\n",
      " 0 1 1 0 1 1 0 1 0 0 0 0 0 1 0 0 0 0 0]\n",
      "[0 1 0 0 0 0 0 1 0 0 0 1 0 0 0 1 0 1 0 0 0 0 0 0 0 0 1 0 1 0 0 1 0 0 0 0 0\n",
      " 1 0 0 0 1 0 0 1 0 0 0 1 0 0 0 0 0 0 0 0 0 0 0 0 0 1 0 0 1 0 1 0 0 0 0 0 0\n",
      " 0 1 0 0 1 0 0 0 0 0 0 0 0 0 0 0 0 0 0]\n",
      "[0 1 0 0 1 1 0 1 0 0 0 1 0 0 0 1 0 1 1 1 0 1 0 0 0 0 0 0 1 0 0 1 0 0 0 0 0\n",
      " 1 1 0 0 1 0 0 0 0 0 0 1 0 0 0 0 0 0 0 0 0 0 0 0 1 1 1 1 1 1 1 0 0 0 0 0 0\n",
      " 0 0 0 0 1 0 0 1 0 0 0 0 1 0 0 0 0 0 0]\n"
     ]
    }
   ],
   "source": [
    "X = data.reindex(columns=feature_meta.index, fill_value=0)\n",
    "y = [0 if 'HV' in i else 1 for i in data.index]\n",
    "y = pd.Series(y, index=data.index)\n",
    "X = X.astype(\"float32\")\n",
    "y = y.astype(\"float32\")\n",
    "metrics = models_compare(X, y, omics_score_model, adjusted_score_layer, DNN_model, GDBT_model, feature_coverage)\n",
    "metrics_list.append(metrics)"
   ]
  },
  {
   "cell_type": "code",
   "execution_count": 31,
   "id": "ef227877",
   "metadata": {},
   "outputs": [
    {
     "data": {
      "text/html": [
       "<div>\n",
       "<style scoped>\n",
       "    .dataframe tbody tr th:only-of-type {\n",
       "        vertical-align: middle;\n",
       "    }\n",
       "\n",
       "    .dataframe tbody tr th {\n",
       "        vertical-align: top;\n",
       "    }\n",
       "\n",
       "    .dataframe thead th {\n",
       "        text-align: right;\n",
       "    }\n",
       "</style>\n",
       "<table border=\"1\" class=\"dataframe\">\n",
       "  <thead>\n",
       "    <tr style=\"text-align: right;\">\n",
       "      <th></th>\n",
       "      <th>accuracy</th>\n",
       "      <th>precision</th>\n",
       "      <th>recall</th>\n",
       "      <th>f1-score</th>\n",
       "      <th>feature_coverage</th>\n",
       "    </tr>\n",
       "  </thead>\n",
       "  <tbody>\n",
       "    <tr>\n",
       "      <th>DNN_score</th>\n",
       "      <td>0.602151</td>\n",
       "      <td>0.65</td>\n",
       "      <td>0.530612</td>\n",
       "      <td>0.58427</td>\n",
       "      <td>1.0</td>\n",
       "    </tr>\n",
       "    <tr>\n",
       "      <th>DNN</th>\n",
       "      <td>0.548387</td>\n",
       "      <td>0.705882</td>\n",
       "      <td>0.244898</td>\n",
       "      <td>0.363636</td>\n",
       "      <td>1.0</td>\n",
       "    </tr>\n",
       "    <tr>\n",
       "      <th>GDBT</th>\n",
       "      <td>0.537634</td>\n",
       "      <td>0.615385</td>\n",
       "      <td>0.326531</td>\n",
       "      <td>0.426667</td>\n",
       "      <td>1.0</td>\n",
       "    </tr>\n",
       "  </tbody>\n",
       "</table>\n",
       "</div>"
      ],
      "text/plain": [
       "           accuracy precision    recall  f1-score  feature_coverage\n",
       "DNN_score  0.602151      0.65  0.530612   0.58427               1.0\n",
       "DNN        0.548387  0.705882  0.244898  0.363636               1.0\n",
       "GDBT       0.537634  0.615385  0.326531  0.426667               1.0"
      ]
     },
     "execution_count": 31,
     "metadata": {},
     "output_type": "execute_result"
    }
   ],
   "source": [
    "metrics"
   ]
  },
  {
   "cell_type": "markdown",
   "id": "4423a081",
   "metadata": {},
   "source": [
    "---\n",
    "# Metabolome"
   ]
  },
  {
   "cell_type": "code",
   "execution_count": 32,
   "id": "47232218",
   "metadata": {},
   "outputs": [],
   "source": [
    "model_name = 'metabolome'\n",
    "model_folder = \"%s/codes/AI/model\"%(root)\n",
    "feature_meta, omics_score_model, adjusted_score_layer, DNN_model, GDBT_model = load(model_name, model_folder)"
   ]
  },
  {
   "cell_type": "markdown",
   "id": "8baaea64",
   "metadata": {},
   "source": [
    "---\n",
    "## Columbia"
   ]
  },
  {
   "cell_type": "code",
   "execution_count": 33,
   "id": "306b63ae",
   "metadata": {},
   "outputs": [
    {
     "name": "stdout",
     "output_type": "stream",
     "text": [
      "(170, 888)\n"
     ]
    }
   ],
   "source": [
    "data = pd.read_csv(\"%s/data/indenpendent_cohorts/Int.J.Mol.Sci.2022/r56_metabolomics_yali_v2.csv\"%(root), \n",
    "                   index_col=0)\n",
    "data_meta = data.iloc[:, :3]\n",
    "data = data.iloc[:, 3:].transpose().apply(pd.to_numeric, errors='coerce').fillna(0)\n",
    "print(data.shape)"
   ]
  },
  {
   "cell_type": "code",
   "execution_count": 34,
   "id": "98185d33",
   "metadata": {},
   "outputs": [],
   "source": [
    "meta = pd.read_table(\"%s/data/indenpendent_cohorts/Int.J.Mol.Sci.2022/r56_pheno_text_binned_v2.txt\"%(root), \n",
    "                     index_col=0, sep='\\t')"
   ]
  },
  {
   "cell_type": "code",
   "execution_count": 35,
   "id": "1bd292f4",
   "metadata": {},
   "outputs": [
    {
     "name": "stdout",
     "output_type": "stream",
     "text": [
      "Model feature #730\n",
      "Test dataset feature #888\n",
      "Overlap #141\n",
      "Feature Coverage 0.19315068493150686\n"
     ]
    }
   ],
   "source": [
    "overlap_len = len(set(data_meta.InChiKey).intersection(feature_meta.INCHIKEY))\n",
    "print(\"Model feature #%s\"%(len(feature_meta.index)))\n",
    "print(\"Test dataset feature #%s\"%(len(data.columns)))\n",
    "print(\"Overlap #%s\"%(overlap_len))\n",
    "feature_coverage = overlap_len/len(feature_meta.index)\n",
    "print(\"Feature Coverage %s\"%(feature_coverage))"
   ]
  },
  {
   "cell_type": "code",
   "execution_count": 36,
   "id": "d0f749f6",
   "metadata": {},
   "outputs": [
    {
     "name": "stderr",
     "output_type": "stream",
     "text": [
      "/tmp/ipykernel_95631/1751042014.py:5: FutureWarning: In a future version, `df.iloc[:, i] = newvals` will attempt to set the values inplace instead of always setting a new array. To retain the old behavior, use either `df[df.columns[i]] = newvals` or, if columns are non-unique, `df.isetitem(i, newvals)`\n",
      "  X.loc[:,i] = data.loc[:,data_meta.index[data_meta.InChiKey == inchi][0]].transpose()\n"
     ]
    }
   ],
   "source": [
    "X = pd.DataFrame(0, columns = feature_meta.index, index=data.index)\n",
    "for i in X.columns:\n",
    "    inchi = feature_meta.INCHIKEY[i]\n",
    "    if any(data_meta.InChiKey == inchi):\n",
    "        X.loc[:,i] = data.loc[:,data_meta.index[data_meta.InChiKey == inchi][0]].transpose()"
   ]
  },
  {
   "cell_type": "code",
   "execution_count": 37,
   "id": "2d012e86",
   "metadata": {},
   "outputs": [],
   "source": [
    "X = StandardScaler().fit_transform(X)"
   ]
  },
  {
   "cell_type": "code",
   "execution_count": 38,
   "id": "0305e771",
   "metadata": {},
   "outputs": [],
   "source": [
    "y = meta.loc[data.index,'Phenotype'].map({'control': 0, 'case': 1})"
   ]
  },
  {
   "cell_type": "code",
   "execution_count": 39,
   "id": "03ba1493",
   "metadata": {},
   "outputs": [
    {
     "name": "stdout",
     "output_type": "stream",
     "text": [
      "6/6 [==============================] - 0s 2ms/step\n",
      "6/6 [==============================] - 0s 990us/step\n",
      "6/6 [==============================] - 0s 1ms/step\n",
      "[1 1 1 1 1 1 1 1 1 1 0 0 0 0 0 0 1 1 1 0 0 0 0 0 1 1 1 0 1 0 0 0 0 0 0 1 1\n",
      " 0 1 0 1 0 1 1 1 1 1 1 0 0 1 0 1 0 0 1 0 0 1 0 1 0 1 0 0 0 0 0 0 0 1 1 0 0\n",
      " 1 1 0 0 0 0 1 1 1 1 0 0 0 0 1 0 0 0 1 0 1 1 1 0 0 0 1 1 1 1 1 0 1 1 1 1 1\n",
      " 1 1 0 0 1 0 0 0 0 0 0 0 0 0 0 0 0 1 0 0 0 0 0 1 1 1 0 0 0 0 0 1 0 1 0 0 1\n",
      " 1 0 1 1 0 0 0 1 1 1 0 1 1 0 0 1 1 1 1 1 0 0]\n",
      "[1 1 1 1 1 1 1 1 1 1 1 1 1 1 1 1 1 1 1 1 0 1 1 0 0 1 1 1 1 1 0 1 0 1 0 1 1\n",
      " 0 1 1 1 1 1 1 1 1 1 0 1 1 0 1 1 1 1 1 0 1 1 1 1 0 1 1 0 0 1 0 1 1 1 1 0 0\n",
      " 1 1 1 0 0 0 1 1 1 1 0 1 1 0 1 1 1 1 1 0 1 1 1 1 1 1 1 0 1 1 1 1 1 1 1 0 1\n",
      " 1 1 1 1 1 1 0 1 0 0 1 1 0 1 0 1 1 1 1 1 1 1 1 1 1 1 1 1 0 1 1 1 1 1 1 0 0\n",
      " 1 0 1 1 0 0 1 1 0 0 0 1 1 1 1 1 0 1 1 1 1 0]\n",
      "[0 1 0 1 0 1 0 0 0 1 1 0 0 1 0 0 0 0 0 0 1 1 0 0 0 0 0 0 1 1 0 0 0 0 0 1 0\n",
      " 1 1 0 0 1 0 0 1 0 0 0 1 0 0 0 1 1 0 1 1 0 0 1 0 0 1 0 0 0 0 0 0 1 0 0 0 0\n",
      " 0 1 1 0 1 0 1 0 1 1 0 1 0 0 1 1 0 0 1 0 1 1 1 0 0 0 0 0 0 0 0 0 1 1 1 0 1\n",
      " 1 1 1 1 0 0 0 1 1 0 1 0 0 0 0 1 1 1 0 1 0 1 0 1 0 0 1 1 0 1 0 0 1 1 1 0 0\n",
      " 0 0 1 1 0 0 0 1 0 0 1 0 0 1 0 0 0 0 0 1 0 0]\n",
      "[1 1 1 1 1 1 1 1 1 1 1 1 1 1 1 1 1 1 1 1 1 1 1 1 1 1 1 1 1 1 1 1 1 1 1 1 1\n",
      " 1 1 1 1 1 1 1 1 1 1 1 1 1 1 1 1 1 1 1 1 1 1 1 1 1 1 1 1 1 1 1 1 1 1 1 1 1\n",
      " 1 1 1 1 1 1 1 1 1 1 1 1 1 1 1 1 1 1 1 1 1 1 1 1 1 1 1 1 1 1 1 1 1 1 1 1 1\n",
      " 1 1 1 1 1 1 1 1 1 1 1 1 1 1 1 1 1 1 1 1 1 1 1 1 1 1 1 1 1 1 1 1 1 1 1 1 1\n",
      " 1 1 1 1 1 1 1 1 1 1 1 1 1 1 1 1 1 1 1 1 1 1]\n"
     ]
    },
    {
     "name": "stderr",
     "output_type": "stream",
     "text": [
      "/projects/ohlab/ruoyun/data/database/conda/envs/py3_R/lib/python3.9/site-packages/sklearn/base.py:450: UserWarning: X does not have valid feature names, but GradientBoostingClassifier was fitted with feature names\n",
      "  warnings.warn(\n",
      "/projects/ohlab/ruoyun/data/database/conda/envs/py3_R/lib/python3.9/site-packages/sklearn/base.py:450: UserWarning: X does not have valid feature names, but GradientBoostingClassifier was fitted with feature names\n",
      "  warnings.warn(\n"
     ]
    }
   ],
   "source": [
    "metrics = models_compare(X, y, omics_score_model, adjusted_score_layer, DNN_model, GDBT_model, feature_coverage)\n",
    "metrics_list.append(metrics)"
   ]
  },
  {
   "cell_type": "code",
   "execution_count": 40,
   "id": "51b9c123",
   "metadata": {},
   "outputs": [
    {
     "data": {
      "text/html": [
       "<div>\n",
       "<style scoped>\n",
       "    .dataframe tbody tr th:only-of-type {\n",
       "        vertical-align: middle;\n",
       "    }\n",
       "\n",
       "    .dataframe tbody tr th {\n",
       "        vertical-align: top;\n",
       "    }\n",
       "\n",
       "    .dataframe thead th {\n",
       "        text-align: right;\n",
       "    }\n",
       "</style>\n",
       "<table border=\"1\" class=\"dataframe\">\n",
       "  <thead>\n",
       "    <tr style=\"text-align: right;\">\n",
       "      <th></th>\n",
       "      <th>accuracy</th>\n",
       "      <th>precision</th>\n",
       "      <th>recall</th>\n",
       "      <th>f1-score</th>\n",
       "      <th>feature_coverage</th>\n",
       "    </tr>\n",
       "  </thead>\n",
       "  <tbody>\n",
       "    <tr>\n",
       "      <th>DNN_score</th>\n",
       "      <td>0.594118</td>\n",
       "      <td>0.538462</td>\n",
       "      <td>0.886076</td>\n",
       "      <td>0.669856</td>\n",
       "      <td>0.193151</td>\n",
       "    </tr>\n",
       "    <tr>\n",
       "      <th>DNN</th>\n",
       "      <td>0.541176</td>\n",
       "      <td>0.507692</td>\n",
       "      <td>0.417722</td>\n",
       "      <td>0.458333</td>\n",
       "      <td>0.193151</td>\n",
       "    </tr>\n",
       "    <tr>\n",
       "      <th>GDBT</th>\n",
       "      <td>0.464706</td>\n",
       "      <td>0.464706</td>\n",
       "      <td>1.0</td>\n",
       "      <td>0.634538</td>\n",
       "      <td>0.193151</td>\n",
       "    </tr>\n",
       "  </tbody>\n",
       "</table>\n",
       "</div>"
      ],
      "text/plain": [
       "           accuracy precision    recall  f1-score  feature_coverage\n",
       "DNN_score  0.594118  0.538462  0.886076  0.669856          0.193151\n",
       "DNN        0.541176  0.507692  0.417722  0.458333          0.193151\n",
       "GDBT       0.464706  0.464706       1.0  0.634538          0.193151"
      ]
     },
     "execution_count": 40,
     "metadata": {},
     "output_type": "execute_result"
    }
   ],
   "source": [
    "metrics"
   ]
  },
  {
   "cell_type": "markdown",
   "id": "bac66c67",
   "metadata": {},
   "source": [
    "---\n",
    "# Cornel"
   ]
  },
  {
   "cell_type": "code",
   "execution_count": 41,
   "id": "a748064a",
   "metadata": {},
   "outputs": [],
   "source": [
    "data = pd.read_excel(\"%s/data/indenpendent_cohorts/jci.insight.2022.xlsx\"%(root), \n",
    "                     sheet_name='ScaledImpDataZeroDrug&Tobacco')\n",
    "data_feature_meta = data.iloc[6:,:15]\n",
    "data_feature_meta.columns = data_feature_meta.iloc[0]\n",
    "data_feature_meta.index = data_feature_meta.loc[:,'COMP ID']\n",
    "data_feature_meta = data_feature_meta.drop('COMP ID')\n",
    "meta = data.iloc[:6,15:].transpose()\n",
    "meta.columns = meta.iloc[0]\n",
    "meta = meta.drop('ID')\n",
    "data = data.iloc[7:,16:]\n",
    "data.index = data_feature_meta.index\n",
    "data.columns = meta.index\n",
    "data = data.transpose()"
   ]
  },
  {
   "cell_type": "code",
   "execution_count": 42,
   "id": "84a82a40",
   "metadata": {},
   "outputs": [],
   "source": [
    "feature_meta.index = feature_meta.COMP_ID"
   ]
  },
  {
   "cell_type": "code",
   "execution_count": 43,
   "id": "7f6b8967",
   "metadata": {},
   "outputs": [
    {
     "name": "stdout",
     "output_type": "stream",
     "text": [
      "Model feature #730\n",
      "Test dataset feature #1157\n",
      "Overlap #573\n",
      "Feature Coverage 0.7849315068493151\n"
     ]
    }
   ],
   "source": [
    "overlap_len = len(set(data.columns).intersection(feature_meta.index))\n",
    "print(\"Model feature #%s\"%(len(feature_meta.index)))\n",
    "print(\"Test dataset feature #%s\"%(len(data.columns)))\n",
    "print(\"Overlap #%s\"%(overlap_len))\n",
    "feature_coverage = overlap_len/len(feature_meta.index)\n",
    "print(\"Feature Coverage %s\"%(feature_coverage))"
   ]
  },
  {
   "cell_type": "code",
   "execution_count": 44,
   "id": "2c41d61a",
   "metadata": {},
   "outputs": [],
   "source": [
    "X = data.reindex(columns=feature_meta.index, fill_value=0)\n",
    "X = X.astype(\"float32\")\n",
    "y = meta.Phenotype.map({'Control': 0, 'CFS': 1})\n",
    "y = y.astype(\"float32\")"
   ]
  },
  {
   "cell_type": "code",
   "execution_count": 45,
   "id": "a30dbf7f",
   "metadata": {},
   "outputs": [],
   "source": [
    "X = StandardScaler().fit_transform(X)"
   ]
  },
  {
   "cell_type": "code",
   "execution_count": 46,
   "id": "ed2997e0",
   "metadata": {},
   "outputs": [
    {
     "name": "stdout",
     "output_type": "stream",
     "text": [
      "13/13 [==============================] - 0s 2ms/step\n",
      "13/13 [==============================] - 0s 806us/step\n",
      "13/13 [==============================] - 0s 1ms/step\n",
      "[0. 0. 0. 0. 0. 0. 0. 0. 0. 0. 0. 0. 0. 0. 0. 0. 0. 0. 0. 0. 0. 0. 0. 0.\n",
      " 0. 0. 0. 0. 0. 0. 0. 0. 0. 0. 0. 0. 0. 0. 0. 0. 0. 0. 0. 0. 0. 0. 0. 0.\n",
      " 0. 0. 0. 0. 0. 0. 0. 0. 0. 0. 0. 0. 0. 0. 0. 0. 0. 0. 0. 0. 0. 0. 0. 0.\n",
      " 0. 0. 0. 0. 0. 0. 0. 0. 0. 0. 0. 0. 0. 0. 0. 0. 0. 0. 0. 0. 0. 0. 0. 0.\n",
      " 0. 0. 0. 0. 0. 0. 0. 0. 0. 0. 0. 0. 0. 0. 0. 0. 0. 0. 0. 0. 1. 1. 1. 1.\n",
      " 1. 1. 1. 1. 1. 1. 1. 1. 1. 1. 1. 1. 1. 1. 1. 1. 1. 1. 1. 1. 1. 1. 1. 1.\n",
      " 1. 1. 1. 1. 1. 1. 1. 1. 1. 1. 1. 1. 1. 1. 1. 1. 1. 1. 1. 1. 1. 1. 1. 1.\n",
      " 1. 1. 1. 1. 1. 1. 1. 1. 1. 1. 1. 1. 1. 1. 1. 1. 1. 1. 1. 1. 1. 1. 1. 1.\n",
      " 1. 1. 1. 1. 1. 1. 1. 1. 1. 1. 1. 1. 1. 1. 1. 1. 1. 1. 1. 1. 1. 1. 1. 1.\n",
      " 1. 1. 1. 1. 1. 1. 1. 1. 1. 1. 1. 1. 1. 1. 1. 1. 1. 1. 1. 1. 1. 1. 1. 1.\n",
      " 1. 1. 1. 1. 1. 1. 1. 1. 1. 1. 1. 1. 1. 1. 1. 1. 1. 1. 1. 1. 1. 1. 1. 1.\n",
      " 1. 1. 1. 1. 1. 1. 1. 1. 1. 1. 1. 1. 1. 1. 1. 1. 1. 1. 1. 1. 1. 1. 1. 1.\n",
      " 1. 1. 1. 1. 1. 1. 1. 1. 0. 0. 0. 0. 0. 0. 0. 0. 0. 0. 0. 0. 0. 0. 0. 0.\n",
      " 0. 0. 0. 0. 0. 0. 0. 0. 0. 0. 0. 0. 0. 0. 0. 0. 0. 0. 0. 0. 0. 0. 0. 0.\n",
      " 0. 0. 0. 0. 0. 0. 0. 0. 0. 0. 0. 0. 0. 0. 0. 0. 0. 0. 1. 1. 1. 1. 1. 1.\n",
      " 1. 1. 1. 1. 1. 1. 1. 1. 1. 1. 1. 1. 1. 1. 1. 1. 1. 1. 1. 1. 1. 1. 1. 1.\n",
      " 1. 1. 1. 1. 1. 1. 1. 1. 1. 1. 1. 1. 1. 1. 1. 1. 1. 1. 1. 1.]\n",
      "[1 0 1 0 1 1 0 0 1 1 0 0 1 1 0 0 0 0 1 0 1 0 0 0 0 1 0 0 0 1 1 1 0 1 0 0 0\n",
      " 1 1 0 0 1 1 0 0 0 0 0 1 0 0 0 0 1 0 0 0 1 1 0 1 0 0 0 0 0 0 0 0 0 1 1 0 0\n",
      " 0 0 1 0 1 0 0 0 0 1 0 1 0 1 1 1 0 1 0 0 0 1 1 0 0 1 0 0 0 0 1 0 1 0 0 0 0\n",
      " 1 0 0 0 1 1 0 1 1 0 1 1 1 0 1 1 1 1 0 1 1 1 1 0 0 1 1 0 1 1 1 0 1 1 1 0 0\n",
      " 0 1 0 0 0 1 0 1 1 1 1 1 1 1 0 1 1 1 1 1 0 0 1 1 0 1 0 0 1 1 1 1 1 1 0 0 1\n",
      " 1 1 1 0 1 1 0 0 1 1 0 0 0 1 0 1 1 0 0 1 1 1 0 1 1 0 1 1 1 0 1 1 1 1 0 0 1\n",
      " 1 0 0 1 1 0 1 1 1 1 1 1 1 1 1 0 1 1 1 0 0 1 0 1 1 1 1 1 1 1 0 1 1 0 1 1 1\n",
      " 1 1 1 1 1 0 1 1 1 1 1 1 1 0 1 1 1 1 1 1 1 1 1 0 1 1 0 0 1 1 0 1 1 1 1 1 1\n",
      " 0 0 0 0 1 0 0 0 0 1 0 0 1 0 0 0 0 0 1 1 0 0 0 1 0 0 1 0 1 0 1 0 0 1 1 0 0\n",
      " 0 1 0 0 1 0 0 0 0 0 1 1 0 0 0 1 0 0 1 0 0 1 0 1 0 1 0 1 1 0 1 1 0 1 1 0 1\n",
      " 0 0 1 0 1 1 1 1 1 1 0 1 1 1 0 1 1 0 1 1 0 0 1 1 1 1 1 1 0 1 0 0 0 1]\n",
      "[1 0 1 0 0 0 0 0 1 1 0 0 1 1 0 0 1 0 1 1 1 0 0 0 0 1 1 1 1 0 0 1 0 1 0 0 0\n",
      " 1 1 0 0 1 1 0 0 1 1 1 1 0 0 0 0 0 1 1 1 1 0 1 1 0 0 0 0 1 1 0 0 1 0 1 1 1\n",
      " 0 0 1 1 1 0 0 0 0 1 1 1 0 1 0 0 0 1 0 0 1 1 1 0 0 1 1 0 0 0 1 0 0 0 0 0 0\n",
      " 1 1 1 0 0 1 1 1 1 1 1 1 1 0 1 1 0 1 0 0 1 1 1 0 0 1 1 1 1 1 1 1 1 0 1 0 1\n",
      " 0 0 1 0 1 1 1 1 1 1 1 1 0 1 0 1 1 1 1 1 0 0 0 1 0 1 0 0 1 1 1 0 1 1 0 0 0\n",
      " 0 1 0 0 0 0 0 0 1 1 0 0 1 0 0 1 0 1 1 1 1 1 1 1 1 0 1 1 1 0 0 0 1 1 0 0 1\n",
      " 1 0 0 1 1 1 1 1 1 1 0 0 1 0 1 1 1 1 1 0 1 0 1 1 1 1 1 1 1 1 1 1 1 1 1 1 1\n",
      " 0 1 0 1 1 0 1 1 1 1 0 0 1 1 1 1 1 1 0 0 1 0 0 1 0 1 0 0 1 1 1 1 1 1 1 1 1\n",
      " 0 0 0 0 1 0 0 0 0 1 1 0 1 0 0 0 0 0 1 0 0 0 0 1 0 0 1 0 0 0 0 1 0 1 1 0 0\n",
      " 0 1 1 0 1 1 0 0 1 0 0 1 0 0 0 0 1 0 1 1 0 1 0 0 0 1 0 1 0 0 0 0 0 1 0 1 0\n",
      " 0 0 1 0 1 0 0 0 0 0 0 1 1 1 0 1 0 0 0 0 0 1 0 0 0 0 0 1 0 1 1 0 0 1]\n",
      "[1 1 1 0 1 1 1 0 1 1 1 0 1 1 1 0 0 1 1 1 1 0 0 0 1 1 1 1 1 1 1 1 1 1 0 1 1\n",
      " 1 1 1 1 1 1 1 1 1 1 1 1 0 1 1 1 1 1 1 1 1 1 1 1 1 1 0 1 1 1 1 1 1 1 1 1 1\n",
      " 1 1 1 1 1 1 1 0 1 1 1 1 0 1 1 1 1 1 1 1 1 1 1 1 1 1 1 1 0 1 1 1 1 1 1 1 1\n",
      " 1 1 1 1 1 1 0 1 1 1 1 1 1 1 1 1 1 1 1 1 1 0 1 1 1 1 1 1 1 1 1 1 1 1 1 1 1\n",
      " 1 0 1 0 1 1 1 1 1 0 1 1 1 1 1 1 1 1 1 1 1 1 1 1 0 1 1 1 1 1 1 1 1 1 0 1 1\n",
      " 1 1 1 1 1 1 1 1 1 0 1 1 1 1 1 1 1 0 1 1 1 1 1 1 1 0 1 1 1 0 0 1 1 1 1 1 1\n",
      " 1 1 0 1 1 1 1 1 1 1 1 1 1 1 1 1 1 1 1 1 1 1 1 1 1 1 1 1 1 1 1 1 1 1 1 1 1\n",
      " 1 1 1 1 1 1 1 1 1 1 1 1 1 1 1 1 1 1 1 1 1 1 1 1 1 1 1 1 1 1 1 1 1 1 1 1 1\n",
      " 1 1 1 0 1 1 1 1 1 1 1 1 1 0 1 1 1 1 1 1 1 1 0 1 1 1 1 0 1 1 1 1 0 1 0 1 1\n",
      " 1 1 1 1 1 0 0 1 1 1 1 1 1 1 1 1 1 1 1 1 1 1 0 1 1 1 1 1 0 1 1 0 0 1 1 1 1\n",
      " 1 1 1 1 1 1 1 1 1 1 0 1 1 1 1 1 1 1 1 1 0 1 1 1 1 1 1 1 1 1 1 1 0 1]\n"
     ]
    },
    {
     "name": "stderr",
     "output_type": "stream",
     "text": [
      "/projects/ohlab/ruoyun/data/database/conda/envs/py3_R/lib/python3.9/site-packages/sklearn/base.py:450: UserWarning: X does not have valid feature names, but GradientBoostingClassifier was fitted with feature names\n",
      "  warnings.warn(\n",
      "/projects/ohlab/ruoyun/data/database/conda/envs/py3_R/lib/python3.9/site-packages/sklearn/base.py:450: UserWarning: X does not have valid feature names, but GradientBoostingClassifier was fitted with feature names\n",
      "  warnings.warn(\n"
     ]
    }
   ],
   "source": [
    "metrics = models_compare(X, y, omics_score_model, adjusted_score_layer, DNN_model, GDBT_model, feature_coverage)\n",
    "metrics_list.append(metrics)"
   ]
  },
  {
   "cell_type": "code",
   "execution_count": 47,
   "id": "6501c9f7",
   "metadata": {},
   "outputs": [
    {
     "data": {
      "text/html": [
       "<div>\n",
       "<style scoped>\n",
       "    .dataframe tbody tr th:only-of-type {\n",
       "        vertical-align: middle;\n",
       "    }\n",
       "\n",
       "    .dataframe tbody tr th {\n",
       "        vertical-align: top;\n",
       "    }\n",
       "\n",
       "    .dataframe thead th {\n",
       "        text-align: right;\n",
       "    }\n",
       "</style>\n",
       "<table border=\"1\" class=\"dataframe\">\n",
       "  <thead>\n",
       "    <tr style=\"text-align: right;\">\n",
       "      <th></th>\n",
       "      <th>accuracy</th>\n",
       "      <th>precision</th>\n",
       "      <th>recall</th>\n",
       "      <th>f1-score</th>\n",
       "      <th>feature_coverage</th>\n",
       "    </tr>\n",
       "  </thead>\n",
       "  <tbody>\n",
       "    <tr>\n",
       "      <th>DNN_score</th>\n",
       "      <td>0.683168</td>\n",
       "      <td>0.733945</td>\n",
       "      <td>0.695652</td>\n",
       "      <td>0.714286</td>\n",
       "      <td>0.784932</td>\n",
       "    </tr>\n",
       "    <tr>\n",
       "      <th>DNN</th>\n",
       "      <td>0.589109</td>\n",
       "      <td>0.653846</td>\n",
       "      <td>0.591304</td>\n",
       "      <td>0.621005</td>\n",
       "      <td>0.784932</td>\n",
       "    </tr>\n",
       "    <tr>\n",
       "      <th>GDBT</th>\n",
       "      <td>0.574257</td>\n",
       "      <td>0.58011</td>\n",
       "      <td>0.913043</td>\n",
       "      <td>0.709459</td>\n",
       "      <td>0.784932</td>\n",
       "    </tr>\n",
       "  </tbody>\n",
       "</table>\n",
       "</div>"
      ],
      "text/plain": [
       "           accuracy precision    recall  f1-score  feature_coverage\n",
       "DNN_score  0.683168  0.733945  0.695652  0.714286          0.784932\n",
       "DNN        0.589109  0.653846  0.591304  0.621005          0.784932\n",
       "GDBT       0.574257   0.58011  0.913043  0.709459          0.784932"
      ]
     },
     "execution_count": 47,
     "metadata": {},
     "output_type": "execute_result"
    }
   ],
   "source": [
    "metrics"
   ]
  },
  {
   "cell_type": "markdown",
   "id": "92b89ef6",
   "metadata": {},
   "source": [
    "---\n",
    "# Save the result"
   ]
  },
  {
   "cell_type": "code",
   "execution_count": 48,
   "id": "77f380bd",
   "metadata": {},
   "outputs": [],
   "source": [
    "#pd.concat(metrics_list).to_csv(\"%s/output/AI_figure/Ind_cohort_compare_metrics.csv\"%(root))"
   ]
  }
 ],
 "metadata": {
  "kernelspec": {
   "display_name": "Python 3 (ipykernel)",
   "language": "python",
   "name": "python3"
  },
  "language_info": {
   "codemirror_mode": {
    "name": "ipython",
    "version": 3
   },
   "file_extension": ".py",
   "mimetype": "text/x-python",
   "name": "python",
   "nbconvert_exporter": "python",
   "pygments_lexer": "ipython3",
   "version": "3.9.13"
  }
 },
 "nbformat": 4,
 "nbformat_minor": 5
}
