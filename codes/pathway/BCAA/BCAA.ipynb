{
 "cells": [
  {
   "cell_type": "code",
   "execution_count": 1,
   "id": "ae7e8e60",
   "metadata": {},
   "outputs": [],
   "source": [
    "setwd(\"../../../\")\n",
    "source(\"codes/pathway/Stat_functions.R\")\n",
    "pacman::p_load(dplyr, ggplot2, tidyr, ComplexHeatmap, gridExtra, grid, stringr, ggsci)\n",
    "options(stringsAsFactors = FALSE)"
   ]
  },
  {
   "cell_type": "markdown",
   "id": "08a7aafa",
   "metadata": {},
   "source": [
    "# Input"
   ]
  },
  {
   "cell_type": "code",
   "execution_count": 2,
   "id": "59fe7270",
   "metadata": {},
   "outputs": [],
   "source": [
    "meta = read.csv(\"data/metadata/Metadata_061523.csv\",row.names = 1)\n",
    "subgroup_list = readRDS(file = \"codes/correlation/Subgroup_sample_list.RDS\")"
   ]
  },
  {
   "cell_type": "code",
   "execution_count": 3,
   "id": "9fa42ea9",
   "metadata": {},
   "outputs": [],
   "source": [
    "abun=read.csv(\"data/metagenomics/Specie_abundance_filtered_90percent_maaslined.csv\", row.names = 1)\n",
    "immune=read.csv(\"data/immuno/immune_percentage.csv\", row.names = 1)\n",
    "bioc=read.csv(\"data/metabolomics/Metabolomics_masslined.csv\", row.names = 1)"
   ]
  },
  {
   "cell_type": "code",
   "execution_count": 4,
   "id": "1abdb117",
   "metadata": {},
   "outputs": [],
   "source": [
    "kegg=read.csv(\"data/metagenomics/KEGG_downsampled_90percent_maaslined.csv\", row.names = 1)"
   ]
  },
  {
   "cell_type": "code",
   "execution_count": 5,
   "id": "9a655f28",
   "metadata": {},
   "outputs": [],
   "source": [
    "kegg_decode= read.csv(\"data/metagenomics/KEGG_decode.csv\", header = T, row.names = 1)\n",
    "kegg_decode = kegg_decode[rownames(kegg),]"
   ]
  },
  {
   "cell_type": "code",
   "execution_count": 6,
   "id": "9c44616c",
   "metadata": {},
   "outputs": [],
   "source": [
    "abun_decode = read.csv(\"data/metagenomics/metaphlan4_species_full.csv\", header = T, row.names = 1)\n",
    "abun_decode = abun_decode[rownames(abun),c(1:7)]"
   ]
  },
  {
   "cell_type": "code",
   "execution_count": 7,
   "id": "995049f2",
   "metadata": {},
   "outputs": [],
   "source": [
    "bioc_decode = read.csv(\"data/metabolomics/QC-norm Data Common wImp_Jan_06_2022.csv\", header = T, row.names = 1)\n",
    "rownames(bioc_decode) = bioc_decode$CHEMICAL_NAME\n",
    "bioc_decode = bioc_decode[rownames(bioc), c(\"SUPER_PATHWAY\",\"SUB_PATHWAY\")]"
   ]
  },
  {
   "cell_type": "markdown",
   "id": "5d7e201f",
   "metadata": {},
   "source": [
    "## Find BCAA pathway"
   ]
  },
  {
   "cell_type": "code",
   "execution_count": 8,
   "id": "4674b91a",
   "metadata": {},
   "outputs": [],
   "source": [
    "target = 'valine'\n",
    "pathway_annotation = kegg_decode[(grepl(target,kegg_decode$Module_decode, \n",
    "      ignore.case=TRUE) | grepl(target,kegg_decode$Reaction_decode, \n",
    "      ignore.case=TRUE) | grepl(target,kegg_decode$Orthology, \n",
    "      ignore.case=TRUE)),]\n",
    "target_ko_1 = rownames(pathway_annotation)\n",
    "target = 'leucine'\n",
    "pathway_annotation = kegg_decode[(grepl(target,kegg_decode$Module_decode, \n",
    "      ignore.case=TRUE) | grepl(target,kegg_decode$Reaction_decode, \n",
    "      ignore.case=TRUE) | grepl(target,kegg_decode$Orthology, \n",
    "      ignore.case=TRUE)),]\n",
    "target_ko_2 = rownames(pathway_annotation)\n",
    "target_ko = c(target_ko_1, target_ko_2) %>% unique()\n",
    "pathway_annotation = kegg_decode[target_ko,]"
   ]
  },
  {
   "cell_type": "code",
   "execution_count": 9,
   "id": "aa7f41a1",
   "metadata": {},
   "outputs": [],
   "source": [
    "pathway_annotation = read.csv(\"output/pathway/BCAA/BCAA_annotation.csv\", header = T, row.names = 1)\n",
    "target_ko = rownames(pathway_annotation)\n",
    "kegg = kegg[target_ko,]"
   ]
  },
  {
   "cell_type": "markdown",
   "id": "a25c502f",
   "metadata": {},
   "source": [
    "# Compute mean abundance in all groups"
   ]
  },
  {
   "cell_type": "code",
   "execution_count": 10,
   "id": "0625efef",
   "metadata": {},
   "outputs": [],
   "source": [
    "group_list = subgroup_list[c(2:length(subgroup_list))]"
   ]
  },
  {
   "cell_type": "code",
   "execution_count": 11,
   "id": "e27b3a0a",
   "metadata": {},
   "outputs": [],
   "source": [
    "kegg_mean = calculate_mean(kegg, group_list)\n",
    "kegg_fold = kegg_mean/kegg_mean$Healthy\n",
    "kegg_p = calculate_p_vs_Healthy(kegg, group_list)"
   ]
  },
  {
   "cell_type": "markdown",
   "id": "07df497d",
   "metadata": {},
   "source": [
    "# Independent Cohort"
   ]
  },
  {
   "cell_type": "code",
   "execution_count": 12,
   "id": "c7e709aa",
   "metadata": {},
   "outputs": [],
   "source": [
    "ind_table = read.csv(\"data/indenpendent_cohorts/columbia/kegg_gene_normalized.csv\", header = T, row.names = 1)\n",
    "ind_table = ind_table[target_ko[target_ko %in% rownames(ind_table)],]\n",
    "\n",
    "ind_decode = read.table(\"data/indenpendent_cohorts/columbia/SraRunTable.txt\", sep = \",\", \n",
    "                 header = T, row.names = 1)\n",
    "ind_decode_list = list()\n",
    "ind_decode_list$Healthy = colnames(ind_table)[ind_decode[colnames(ind_table),'sampletype'] == 'Control']\n",
    "ind_decode_list$Patient = colnames(ind_table)[ind_decode[colnames(ind_table),'sampletype'] == 'Case']"
   ]
  },
  {
   "cell_type": "code",
   "execution_count": 13,
   "id": "3f00f231",
   "metadata": {},
   "outputs": [],
   "source": [
    "guo_mean = calculate_mean(ind_table, ind_decode_list)\n",
    "guo_fold = guo_mean/guo_mean$Healthy\n",
    "guo_mean$Patient[is.infinite(guo_fold$Patient)] = 1\n",
    "guo_fold$Patient[is.infinite(guo_fold$Patient)] = 1\n",
    "guo_p = calculate_p_vs_Healthy(ind_table, ind_decode_list)"
   ]
  },
  {
   "cell_type": "code",
   "execution_count": 14,
   "id": "19ceaf86",
   "metadata": {},
   "outputs": [],
   "source": [
    "ind_table = read.csv(\"data/indenpendent_cohorts/Raijmakers/kegg_gene_normalized.csv\", header = T, row.names = 1)\n",
    "ind_table = ind_table[target_ko[target_ko %in% rownames(ind_table)],]\n",
    "ind_table = ind_table[,!grepl('QFS', colnames(ind_table))]\n",
    "ind_decode_list = list()\n",
    "ind_decode_list$Healthy = colnames(ind_table)[grepl('HV', colnames(ind_table))]\n",
    "ind_decode_list$Patient = colnames(ind_table)[grepl('CFS', colnames(ind_table))]"
   ]
  },
  {
   "cell_type": "code",
   "execution_count": 15,
   "id": "5158986b",
   "metadata": {},
   "outputs": [],
   "source": [
    "ruud_mean = calculate_mean(ind_table, ind_decode_list)\n",
    "ruud_fold = ruud_mean/ruud_mean$Healthy\n",
    "ruud_p = calculate_p_vs_Healthy(ind_table, ind_decode_list)"
   ]
  },
  {
   "cell_type": "markdown",
   "id": "3bdae027",
   "metadata": {},
   "source": [
    "# Heatmap"
   ]
  },
  {
   "cell_type": "code",
   "execution_count": 16,
   "id": "b093c7b6",
   "metadata": {},
   "outputs": [],
   "source": [
    "group_names = c('Patient','Short','Long')\n",
    "gene_names = target_ko"
   ]
  },
  {
   "cell_type": "code",
   "execution_count": 17,
   "id": "091e4c41",
   "metadata": {},
   "outputs": [],
   "source": [
    "table_fold = cbind(kegg_fold[target_ko, group_names], \n",
    "                   guo_fold[target_ko, 'Patient'], \n",
    "                   ruud_fold[target_ko, 'Patient'])\n",
    "\n",
    "table_p = cbind(kegg_p[target_ko, group_names], \n",
    "                guo_p[target_ko, 'Patient'], \n",
    "                ruud_p[target_ko, 'Patient'])\n",
    "table_p = pvalue_table_adjust(table_p)\n",
    "\n",
    "table_raw = cbind(kegg_mean[target_ko, group_names], \n",
    "                guo_mean[target_ko, 'Patient'], \n",
    "                ruud_mean[target_ko, 'Patient'])\n",
    "\n",
    "colnames(table_fold) = c(group_names, 'Guo', 'Raijmakers')\n",
    "colnames(table_p) = colnames(table_fold)\n",
    "colnames(table_raw) = colnames(table_fold)\n",
    "\n",
    "rownames(table_fold) = str_split_fixed(pathway_annotation[target_ko, 'Orthology'], \";\",2)[,1]\n",
    "rownames(table_fold) = str_split_fixed(rownames(table_fold), \",\",2)[,1]\n",
    "rownames(table_p) = rownames(table_fold)\n",
    "rownames(table_raw) = rownames(table_fold)"
   ]
  },
  {
   "cell_type": "code",
   "execution_count": 18,
   "id": "6cb32354",
   "metadata": {},
   "outputs": [
    {
     "name": "stderr",
     "output_type": "stream",
     "text": [
      "Warning message:\n",
      "“The input is a data frame-like object, convert it to a matrix.”\n",
      "Warning message:\n",
      "“The input is a data frame-like object, convert it to a matrix.”\n",
      "Warning message:\n",
      "“The input is a data frame-like object, convert it to a matrix.”\n",
      "Following `at` are removed: NA, because no color was defined for them.\n",
      "\n",
      "Following `at` are removed: NA, because no color was defined for them.\n",
      "\n",
      "Following `at` are removed: NA, because no color was defined for them.\n",
      "\n",
      "Following `at` are removed: NA, because no color was defined for them.\n",
      "\n",
      "Following `at` are removed: NA, because no color was defined for them.\n",
      "\n",
      "Following `at` are removed: NA, because no color was defined for them.\n",
      "\n"
     ]
    },
    {
     "data": {
      "text/html": [
       "<strong>png:</strong> 2"
      ],
      "text/latex": [
       "\\textbf{png:} 2"
      ],
      "text/markdown": [
       "**png:** 2"
      ],
      "text/plain": [
       "png \n",
       "  2 "
      ]
     },
     "metadata": {},
     "output_type": "display_data"
    }
   ],
   "source": [
    "pdf(\"output/pathway/BCAA/Heatmap.pdf\", width = 10, height = 6)\n",
    "col_fun= circlize::colorRamp2(c(0, 1, 1.5), c(\"blue\", \"white\", \"red\"))\n",
    "row_an = rowAnnotation(#reaction = pathway_annotation$Reaction_decode,\n",
    "                       module = pathway_annotation$Module_decode,\n",
    "                       pathway = pathway_annotation$Pathway_decode\n",
    "                      )\n",
    "\n",
    "heatmap_cols = group_names\n",
    "heatmap_color = table_fold[ , heatmap_cols, drop = FALSE]\n",
    "heatmap_text = table_p[,heatmap_cols, drop = FALSE]\n",
    "heatmap_size = table_raw[,heatmap_cols, drop = FALSE]\n",
    "heatmap_1 = Heatmap(heatmap_color, \n",
    "        cluster_columns = F, cluster_rows = T,\n",
    "        right_annotation=row_an,\n",
    "        col = col_fun,\n",
    "        cell_fun = function(j, i, x, y, width, height, fill) {\n",
    "        grid.text(sprintf(heatmap_text[i, j]), x, y, gp = gpar(fontsize = 10))\n",
    "        })\n",
    "\n",
    "heatmap_cols = 'Guo'\n",
    "heatmap_color = table_fold[ , heatmap_cols, drop = FALSE]\n",
    "heatmap_text = table_p[,heatmap_cols, drop = FALSE]\n",
    "heatmap_size = table_raw[,heatmap_cols, drop = FALSE]\n",
    "\n",
    "heatmap_2 = Heatmap(heatmap_color, \n",
    "                    col = col_fun,\n",
    "        cell_fun = function(j, i, x, y, width, height, fill) {\n",
    "        grid.text(sprintf(heatmap_text[i, j]), x, y, gp = gpar(fontsize = 10))\n",
    "        })\n",
    "\n",
    "heatmap_cols = 'Raijmakers'\n",
    "heatmap_color = table_fold[ , heatmap_cols, drop = FALSE]\n",
    "heatmap_text = table_p[,heatmap_cols, drop = FALSE]\n",
    "heatmap_size = table_raw[,heatmap_cols, drop = FALSE]\n",
    "\n",
    "heatmap_3 = Heatmap(heatmap_color, \n",
    "        col = col_fun,\n",
    "        cell_fun = function(j, i, x, y, width, height, fill) {\n",
    "        grid.text(sprintf(heatmap_text[i, j]), x, y, gp = gpar(fontsize = 10))\n",
    "        })\n",
    "\n",
    "heatmap_1 + heatmap_2 + heatmap_3\n",
    "dev.off()"
   ]
  },
  {
   "cell_type": "code",
   "execution_count": 19,
   "id": "5863f261",
   "metadata": {},
   "outputs": [
    {
     "name": "stderr",
     "output_type": "stream",
     "text": [
      "Warning message:\n",
      "“The input is a data frame-like object, convert it to a matrix.”\n",
      "Warning message:\n",
      "“The input is a data frame-like object, convert it to a matrix.”\n",
      "Warning message:\n",
      "“The input is a data frame-like object, convert it to a matrix.”\n"
     ]
    },
    {
     "data": {
      "text/html": [
       "<strong>png:</strong> 2"
      ],
      "text/latex": [
       "\\textbf{png:} 2"
      ],
      "text/markdown": [
       "**png:** 2"
      ],
      "text/plain": [
       "png \n",
       "  2 "
      ]
     },
     "metadata": {},
     "output_type": "display_data"
    },
    {
     "data": {
      "text/html": [
       "<strong>png:</strong> 2"
      ],
      "text/latex": [
       "\\textbf{png:} 2"
      ],
      "text/markdown": [
       "**png:** 2"
      ],
      "text/plain": [
       "png \n",
       "  2 "
      ]
     },
     "metadata": {},
     "output_type": "display_data"
    }
   ],
   "source": [
    "pdf(\"output/pathway/BCAA/BCAA_Fold.pdf\", width = 4.2, height = 5)\n",
    "col_fun = circlize::colorRamp2(c(0.5, 1, 2), c(\"blue\", \"white\", \"red\"))\n",
    "size_fun = function(x, mag){log(x, base=7)/mag}\n",
    "font_size = 18\n",
    "\n",
    "annotation_col = 'Annotation'\n",
    "annotation_text = pathway_annotation[,annotation_col]\n",
    "annotation_text = factor(annotation_text, levels = (unique(annotation_text)))\n",
    "annotation_catagory = unique(annotation_text)\n",
    "annotation_colors = pal_npg()(length(annotation_catagory))\n",
    "names(annotation_colors) = annotation_catagory\n",
    "annotation_catagory_list = lapply(c(1:length(annotation_catagory)), \n",
    "                                  function(x) {annotation_catagory[x] %>% \n",
    "                                               str_replace(\" Biosynthesis\",\"\\nBiosynthesis\") %>% \n",
    "                                               str_replace(\"<=>\", \"<=>\") %>% \n",
    "                                               str_replace_all(\"=>\", \"=>\\n\")})\n",
    "names(annotation_catagory_list) = annotation_catagory                                           \n",
    "\n",
    "module_colors = list(Module = annotation_colors)\n",
    "row_an = rowAnnotation(textbox = anno_textbox(annotation_text, \n",
    "                                              annotation_catagory_list, \n",
    "                                              background_gp = gpar(fill = \"transparent\", \n",
    "                                                                   col = \"transparent\"),\n",
    "                                              by = \"anno_block\",\n",
    "                                              gp = gpar(fontsize = 18, col = \"black\"),\n",
    "                                              side = \"right\", \n",
    "                                              just = \"centre\"),\n",
    "                       Module = annotation_text, col = module_colors, \n",
    "                       annotation_name_rot = 45, annotation_name_gp = gpar(fontsize = font_size),\n",
    "                       show_legend = FALSE)\n",
    "heatmap_cols = group_names\n",
    "heatmap_color = table_fold[ , heatmap_cols, drop = FALSE]\n",
    "heatmap_text = table_p[,heatmap_cols, drop = FALSE]\n",
    "heatmap_size = table_raw[,heatmap_cols, drop = FALSE]\n",
    "heatmap_1 = Heatmap(heatmap_color, \n",
    "        left_annotation = row_an, show_heatmap_legend=F,\n",
    "        show_parent_dend_line = FALSE,row_title = NULL,border = TRUE,show_row_dend=F,\n",
    "        row_split = annotation_text,\n",
    "                    column_names_gp = gpar(fontsize = font_size),column_names_rot = 45,\n",
    "        cluster_columns = F, cluster_rows = F, rect_gp = gpar(type = \"none\"),\n",
    "        cell_fun = function(j, i, x, y, width, height, fill) {\n",
    "        grid.circle(x = x, y = y,\n",
    "                    r = size_fun(heatmap_size[i, j],5)* min(unit.c(width, height)),\n",
    "                    gp = gpar(fill = col_fun(heatmap_color[i, j]), col = 'lightgrey', lwd = 0.5));\n",
    "        grid.text(sprintf(heatmap_text[i, j]), x, y, gp = gpar(fontsize = 15)) \n",
    "        })\n",
    "heatmap_cols = \"Guo\"\n",
    "heatmap_color = table_fold[ , heatmap_cols, drop = FALSE]\n",
    "heatmap_text = table_p[,heatmap_cols, drop = FALSE]\n",
    "heatmap_size = table_raw[,heatmap_cols, drop = FALSE]\n",
    "heatmap_2 = Heatmap(heatmap_color, \n",
    "                    column_names_gp = gpar(fontsize = font_size),column_names_rot = 45,\n",
    "        rect_gp = gpar(type = \"none\"),show_heatmap_legend=F,\n",
    "        cell_fun = function(j, i, x, y, width, height, fill) {\n",
    "        grid.circle(x = x, y = y, \n",
    "                    r = size_fun(heatmap_size[i, j], 5)* min(unit.c(width, height)),\n",
    "                    gp = gpar(fill = col_fun(heatmap_color[i, j]), col = 'lightgrey', lwd = 0.5));\n",
    "        grid.text(sprintf(heatmap_text[i, j]), x, y, gp = gpar(fontsize = font_size)) \n",
    "        })\n",
    "heatmap_cols = \"Raijmakers\"\n",
    "heatmap_color = table_fold[ , heatmap_cols, drop = FALSE]\n",
    "heatmap_text = table_p[,heatmap_cols, drop = FALSE]\n",
    "heatmap_size = table_raw[,heatmap_cols, drop = FALSE]\n",
    "heatmap_3 = Heatmap(heatmap_color, \n",
    "                    column_names_gp = gpar(fontsize = font_size),column_names_rot = 45,\n",
    "                    row_names_gp = gpar(fontsize = font_size),\n",
    "       rect_gp = gpar(type = \"none\"),show_heatmap_legend=F,\n",
    "        cell_fun = function(j, i, x, y, width, height, fill) {\n",
    "        grid.circle(x = x, y = y, \n",
    "                    r = size_fun(heatmap_size[i, j], 5)* min(unit.c(width, height)),\n",
    "                    gp = gpar(fill = col_fun(heatmap_color[i, j]), col = 'lightgrey', lwd = 0.5));\n",
    "        grid.text(sprintf(heatmap_text[i, j]), x, y, gp = gpar(fontsize = 15)) \n",
    "        })\n",
    "ht = heatmap_1 + heatmap_2 + heatmap_3\n",
    "ht\n",
    "dev.off()\n",
    "\n",
    "pdf(\"output/pathway/BCAA/Module_legend.pdf\", width = 4, height = 2)\n",
    "par(mar = c(0, 0, 0, 0))\n",
    "plot.new()\n",
    "plot.window(xlim = c(0, 1), ylim = c(0, 1))\n",
    "plot_square_with_label <- function(x, y, color, label) {\n",
    "  rect(xleft = x - 0.05, ybottom = y, xright = x, ytop = y + 0.05, col = color, border = color)\n",
    "  text(x, y + 0.025, label, pos = 4, cex = 0.8, adj = 0)\n",
    "}\n",
    "y_pos <- seq(0.9, by = -0.1, length.out = length(annotation_colors))\n",
    "names_colors <- names(annotation_colors)\n",
    "colors <- annotation_colors\n",
    "for (i in seq_along(names_colors)) {\n",
    "  plot_square_with_label(0.05, y_pos[i], colors[i], names_colors[i])\n",
    "}\n",
    "title(main = \"BCAA Module\", adj = 0, line = -0.5, cex.main = 0.8)\n",
    "dev.off()"
   ]
  },
  {
   "cell_type": "code",
   "execution_count": 20,
   "id": "7750d4e2",
   "metadata": {},
   "outputs": [
    {
     "name": "stderr",
     "output_type": "stream",
     "text": [
      "Warning message:\n",
      "“The heatmap list has not been initialized. You might have different\n",
      "results if you repeatedly execute this function, e.g. when\n",
      "row_km/column_km was set. It is more suggested to do as `ht_list =\n",
      "draw(ht_list); row_order(ht_list)`.”\n"
     ]
    }
   ],
   "source": [
    "kegg_gene_order = row_order(ht)\n",
    "kegg_gene_order = lapply(kegg_gene_order, function(x) target_ko[x])"
   ]
  },
  {
   "cell_type": "markdown",
   "id": "011c3a65",
   "metadata": {},
   "source": [
    "# Correlation"
   ]
  },
  {
   "cell_type": "code",
   "execution_count": 21,
   "id": "43c05af3",
   "metadata": {},
   "outputs": [],
   "source": [
    "select_blood_responders = function(kegg, bioc, immune, group_list, path, cutoff = 5){\n",
    "  # Intersect the column names of all three data frames to get common samples\n",
    "  sample_all = Reduce(intersect, list(colnames(kegg), colnames(bioc), colnames(immune)))\n",
    "  # Combine the data frames by rows after selecting common samples and transpose\n",
    "  table_all = rbind(kegg[, sample_all], bioc[, sample_all], immune[, sample_all]) %>% t()\n",
    "  \n",
    "  corr_result = list()\n",
    "  bioc_names = c()\n",
    "  immune_names = c()\n",
    "  \n",
    "  for (name_i in names(group_list)){\n",
    "    # Get samples for the current subgroup\n",
    "    sample_i = sample_all[sample_all %in% group_list[[name_i]]]\n",
    "    # Subset the combined table for the current samples\n",
    "    combined = table_all[sample_i, ]\n",
    "    # Calculate the Spearman correlation matrix\n",
    "    combined_cor = cor(as.matrix(combined), method = \"spearman\")\n",
    "    # Sum of absolute correlations for bioc markers\n",
    "    bioc_cor = abs(colSums(combined_cor[rownames(kegg), rownames(bioc)]))\n",
    "    # Sum of absolute correlations for immune markers\n",
    "    immune_cor = abs(colSums(combined_cor[rownames(kegg), rownames(immune)]))\n",
    "    \n",
    "    # Apply different cutoff for 'Healthy_yr1'\n",
    "    current_cutoff = if(name_i == 'Healthy_yr1') cutoff * 2 else cutoff\n",
    "    \n",
    "    bioc_name = names(sort(bioc_cor, decreasing = TRUE)[1:(current_cutoff)])\n",
    "    immune_name = names(sort(immune_cor, decreasing = TRUE)[1:current_cutoff])\n",
    "    \n",
    "    bioc_names = c(bioc_names, bioc_name)  \n",
    "    immune_names = c(immune_names, immune_name)  \n",
    "    corr_result[[name_i]] = combined_cor[rownames(kegg), c(rownames(bioc), rownames(immune))]\n",
    "  }\n",
    "  \n",
    "  bioc_names = unique(bioc_names)\n",
    "  immune_names = unique(immune_names)\n",
    "    \n",
    "  bioc_decode = read.csv(\"data/metabolomics/QC-norm Data Common wImp_Jan_06_2022.csv\", header = T, row.names = 1)\n",
    "  rownames(bioc_decode) = bioc_decode$CHEMICAL_NAME\n",
    "  bioc_decode = bioc_decode[bioc_names, c(\"SUPER_PATHWAY\",\"SUB_PATHWAY\")]\n",
    "\n",
    "  # Select the correlations for the identified markers\n",
    "  corr_result_select = lapply(corr_result, function(X) X[, c(bioc_names,immune_names)])\n",
    "  \n",
    "  # Write the results to CSV files\n",
    "  lapply(names(corr_result_select), function(X) {\n",
    "    write.csv(corr_result_select[[X]], paste(path, X, \"_sankey.csv\", sep = \"\"))\n",
    "  })\n",
    "  \n",
    "  decode = bioc_decode\n",
    "  decode[immune_names,]=\"\"  \n",
    "  # Return the list of selected correlations\n",
    "  return(list(corr_result = corr_result_select, decode = decode))\n",
    "}"
   ]
  },
  {
   "cell_type": "code",
   "execution_count": 22,
   "id": "feb26d67",
   "metadata": {},
   "outputs": [],
   "source": [
    "group_list = subgroup_list[c('Healthy_yr1','Short','Long')]\n",
    "path = \"output/pathway/BCAA/sankey/\"\n",
    "kegg_list = kegg_gene_order %>% unlist()\n",
    "corr_result_list = select_blood_responders(kegg[kegg_list,], bioc, immune, group_list, path, cutoff = 5)\n",
    "corr_result = corr_result_list$corr_result\n",
    "decode = corr_result_list$decode"
   ]
  },
  {
   "cell_type": "code",
   "execution_count": 23,
   "id": "c861e1c1",
   "metadata": {},
   "outputs": [
    {
     "data": {
      "text/html": [
       "<strong>png:</strong> 2"
      ],
      "text/latex": [
       "\\textbf{png:} 2"
      ],
      "text/markdown": [
       "**png:** 2"
      ],
      "text/plain": [
       "png \n",
       "  2 "
      ]
     },
     "metadata": {},
     "output_type": "display_data"
    }
   ],
   "source": [
    "pdf(\"output/pathway/BCAA/sankey/blood_correlation_heatmap.pdf\", width = 10, height = 10)\n",
    "Healthy_yr1 = Heatmap(corr_result$Healthy_yr1 %>% t(), \n",
    "                      column_order=kegg_list,\n",
    "                      column_split = pathway_annotation[kegg_list,'Annotation'],\n",
    "                      show_heatmap_legend=F)\n",
    "Short = Heatmap(corr_result$Short %>% t(), \n",
    "                column_order=kegg_list,\n",
    "                column_split = pathway_annotation[kegg_list,'Annotation'],\n",
    "                show_heatmap_legend=F)\n",
    "Long = Heatmap(corr_result$Long %>% t(), \n",
    "                              column_order=kegg_list,\n",
    "                column_split = pathway_annotation[kegg_list,'Annotation'],\n",
    "               show_heatmap_legend=F)\n",
    "Healthy_yr1 + Short + Long\n",
    "\n",
    "#write.csv(decode[row_order(Healthy_yr1),], paste(path, \"blood_responder_decode.csv\", sep = \"\"))\n",
    "dev.off()"
   ]
  },
  {
   "cell_type": "markdown",
   "id": "edb4256c",
   "metadata": {},
   "source": [
    "# Annotation"
   ]
  },
  {
   "cell_type": "code",
   "execution_count": 24,
   "id": "ea0c98f3",
   "metadata": {},
   "outputs": [],
   "source": [
    "group_list = subgroup_list[c('Healthy_yr1','Short','Long')]\n",
    "path = \"output/pathway/BCAA/sankey/\"\n",
    "kegg_list = kegg_gene_order %>% unlist()\n",
    "corr_result_list = select_blood_responders(kegg[kegg_list,], bioc, immune, group_list, path, cutoff = 50)\n",
    "corr_result = corr_result_list$corr_result"
   ]
  },
  {
   "cell_type": "code",
   "execution_count": 25,
   "id": "ba9dd34b",
   "metadata": {},
   "outputs": [],
   "source": [
    "blood_responder_decode <- read.csv(paste(path, \"blood_responder_decode.csv\", sep = \"\"), \n",
    "                                     header = TRUE, row.names = 1)\n",
    "responders <- rownames(blood_responder_decode)[blood_responder_decode$Annotation != \"\"]\n",
    "blood_responder_decode = blood_responder_decode[responders,]"
   ]
  },
  {
   "cell_type": "code",
   "execution_count": 26,
   "id": "48df5f0e",
   "metadata": {},
   "outputs": [
    {
     "data": {
      "text/html": [
       "<ol>\n",
       "\t<li>NULL</li>\n",
       "\t<li>NULL</li>\n",
       "\t<li>NULL</li>\n",
       "</ol>\n"
      ],
      "text/latex": [
       "\\begin{enumerate}\n",
       "\\item NULL\n",
       "\\item NULL\n",
       "\\item NULL\n",
       "\\end{enumerate}\n"
      ],
      "text/markdown": [
       "1. NULL\n",
       "2. NULL\n",
       "3. NULL\n",
       "\n",
       "\n"
      ],
      "text/plain": [
       "[[1]]\n",
       "NULL\n",
       "\n",
       "[[2]]\n",
       "NULL\n",
       "\n",
       "[[3]]\n",
       "NULL\n"
      ]
     },
     "metadata": {},
     "output_type": "display_data"
    }
   ],
   "source": [
    "lapply(names(corr_result), function(X) {\n",
    "    write.csv(corr_result[[X]][kegg_list, responders], paste(path, X, \"_sankey.csv\", sep = \"\"))\n",
    "})"
   ]
  },
  {
   "cell_type": "code",
   "execution_count": 27,
   "id": "ee6a8810",
   "metadata": {},
   "outputs": [],
   "source": [
    "pathway_annotation = pathway_annotation[kegg_list,]\n",
    "pathway_annotation$Color = annotation_colors[pathway_annotation$Annotation]\n",
    "write.csv(pathway_annotation[kegg_list, c('Annotation','Color')], paste(path, \"kegg_decode_sankey.csv\", sep = \"\"))"
   ]
  },
  {
   "cell_type": "code",
   "execution_count": 28,
   "id": "e0170d26",
   "metadata": {},
   "outputs": [],
   "source": [
    "annotation_catagory = unique(blood_responder_decode[,'Annotation'])\n",
    "annotation_colors = pal_simpsons()(length(annotation_catagory))\n",
    "names(annotation_colors) = annotation_catagory\n",
    "blood_responder_decode$Color = annotation_colors[blood_responder_decode$Annotation]\n",
    "write.csv(blood_responder_decode[responders, \n",
    "                                 c('Annotation','Color')], paste(path, \"responder_decode_sankey.csv\", sep = \"\"))"
   ]
  },
  {
   "cell_type": "markdown",
   "id": "d9c3f120",
   "metadata": {},
   "source": [
    "# Plot the fold changes of blood responders"
   ]
  },
  {
   "cell_type": "code",
   "execution_count": 29,
   "id": "f98bda8f",
   "metadata": {},
   "outputs": [],
   "source": [
    "sample_all = Reduce(intersect, list(colnames(kegg), colnames(bioc), colnames(immune)))\n",
    "table_all = rbind(kegg[, sample_all], bioc[, sample_all], immune[, sample_all])\n",
    "\n",
    "blood_responder_table = table_all[rownames(blood_responder_decode),]\n",
    "blood_responder_mean = calculate_mean(blood_responder_table, \n",
    "                                      subgroup_list[c('Healthy','Patient','Short','Long')])\n",
    "blood_responder_p = calculate_p_vs_Healthy(blood_responder_table, \n",
    "                                           subgroup_list[c('Healthy','Patient','Short','Long')])\n",
    "blood_responder_p = pvalue_table_adjust(blood_responder_p)\n",
    "blood_responder_fold = blood_responder_mean/blood_responder_mean$Healthy\n",
    "scale_data = function(x) {return(1 + (x - 1) / 200)}\n",
    "blood_responder_raw = sapply(blood_responder_mean, scale_data)"
   ]
  },
  {
   "cell_type": "code",
   "execution_count": 30,
   "id": "c43b5160",
   "metadata": {},
   "outputs": [],
   "source": [
    "rownames_clean = gsub(\"%\", \"\", gsub(\"d[016]\", \"\", gsub(\" \", \"\", gsub(\"\\\\([^\\\\)]+\\\\)\", \"\", \n",
    "                                                                      rownames(blood_responder_p)))))\n",
    "rownames_clean = gsub(\"CD4\\\\+RO\\\\+CCR6\",\"Th17M \",rownames_clean)\n",
    "rownames_clean = gsub(\"CD4\\\\+MCD25\\\\-CD27\\\\+\",\"CD4+MCD25\",rownames_clean)\n",
    "rownames_clean = gsub(\"IL\\\\−17\\\\+\",\"IL17\",rownames_clean)\n",
    "rownames_clean = gsub(\"1-myristoyl-2-arachidonoyl-GPC*\",\"2-arachidonoyl-GPC\",rownames_clean)\n",
    "rownames_clean = make.unique(rownames_clean, sep = \"\")\n",
    "\n",
    "rownames(blood_responder_p) = rownames_clean\n",
    "rownames(blood_responder_fold) = rownames_clean\n",
    "rownames(blood_responder_raw) = rownames_clean\n",
    "rownames(blood_responder_decode) = rownames_clean"
   ]
  },
  {
   "cell_type": "code",
   "execution_count": 31,
   "id": "bcbbf392",
   "metadata": {},
   "outputs": [
    {
     "name": "stderr",
     "output_type": "stream",
     "text": [
      "Warning message:\n",
      "“The input is a data frame-like object, convert it to a matrix.”\n"
     ]
    },
    {
     "data": {
      "text/html": [
       "<strong>png:</strong> 2"
      ],
      "text/latex": [
       "\\textbf{png:} 2"
      ],
      "text/markdown": [
       "**png:** 2"
      ],
      "text/plain": [
       "png \n",
       "  2 "
      ]
     },
     "metadata": {},
     "output_type": "display_data"
    },
    {
     "data": {
      "text/html": [
       "<strong>png:</strong> 2"
      ],
      "text/latex": [
       "\\textbf{png:} 2"
      ],
      "text/markdown": [
       "**png:** 2"
      ],
      "text/plain": [
       "png \n",
       "  2 "
      ]
     },
     "metadata": {},
     "output_type": "display_data"
    }
   ],
   "source": [
    "pdf(\"output/pathway/BCAA/Blood_Responder_Fold.pdf\", width = 5.5, height = 5)\n",
    "col_fun = circlize::colorRamp2(c(0.5, 1, 2), c(\"blue\", \"white\", \"red\"))\n",
    "size_fun = function(x, mag){return(x/mag)}\n",
    "font_size = 18\n",
    "\n",
    "annotation_col = 'Annotation'\n",
    "annotation_text = blood_responder_decode[,annotation_col]\n",
    "annotation_text = factor(annotation_text, levels = (unique(annotation_text)))\n",
    "annotation_catagory = unique(annotation_text)\n",
    "annotation_colors = pal_simpsons()(length(annotation_catagory))\n",
    "names(annotation_colors) = annotation_catagory\n",
    "annotation_catagory_list = lapply(c(1:length(annotation_catagory)), \n",
    "                                  function(x) {annotation_catagory[x] %>% \n",
    "                                               str_replace_all(\"\\\\/\", \"/\\n\")})\n",
    "names(annotation_catagory_list) = annotation_catagory                                           \n",
    "\n",
    "module_colors = list(Module = annotation_colors)\n",
    "row_an = rowAnnotation(Module = annotation_text, col = module_colors, \n",
    "                       textbox = anno_textbox(annotation_text, \n",
    "                                              annotation_catagory_list, \n",
    "                                              background_gp = gpar(fill = \"transparent\", \n",
    "                                                                   col = \"transparent\"),\n",
    "                                              by = \"anno_block\",\n",
    "                                              gp = gpar(fontsize = 18, col = \"black\"),\n",
    "                                              side = \"right\", \n",
    "                                              just = \"centre\"),\n",
    "                       annotation_name_rot = 45, annotation_name_gp = gpar(fontsize = 18),\n",
    "                       show_legend = FALSE)\n",
    "heatmap_cols = group_names\n",
    "heatmap_color = blood_responder_fold[ , heatmap_cols, drop = FALSE]\n",
    "heatmap_text = blood_responder_p[,heatmap_cols, drop = FALSE]\n",
    "heatmap_size = blood_responder_raw[,heatmap_cols, drop = FALSE]\n",
    "heatmap_1 = Heatmap(heatmap_color, \n",
    "        right_annotation = row_an, show_heatmap_legend=F,\n",
    "        show_parent_dend_line = FALSE,row_title = NULL,border = TRUE,show_row_dend=F,\n",
    "        row_split = annotation_text,row_names_side = \"left\",\n",
    "        column_names_gp = gpar(fontsize = 18),column_names_rot = 45,\n",
    "        cluster_columns = F, cluster_rows = F, rect_gp = gpar(type = \"none\"),\n",
    "        cell_fun = function(j, i, x, y, width, height, fill) {\n",
    "        grid.circle(x = x, y = y,\n",
    "                    r = size_fun(heatmap_size[i, j],2.5)* min(unit.c(width, height)),\n",
    "                    gp = gpar(fill = col_fun(heatmap_color[i, j]), col = 'lightgrey', lwd = 0.5));\n",
    "        grid.text(sprintf(heatmap_text[i, j]), x, y, gp = gpar(fontsize = 13)) \n",
    "        })\n",
    "\n",
    "heatmap_1\n",
    "dev.off()\n",
    "\n",
    "pdf(\"output/pathway/BCAA/Respondor_legend.pdf\", width = 4, height = 2)\n",
    "par(mar = c(0, 0, 0, 0))\n",
    "plot.new()\n",
    "plot.window(xlim = c(0, 1), ylim = c(0, 1))\n",
    "plot_square_with_label <- function(x, y, color, label) {\n",
    "  rect(xleft = x - 0.05, ybottom = y, xright = x, ytop = y + 0.05, col = color, border = color)\n",
    "  text(x, y + 0.025, label, pos = 4, cex = 0.8, adj = 0)\n",
    "}\n",
    "y_pos <- seq(0.9, by = -0.1, length.out = length(annotation_colors))\n",
    "names_colors <- names(annotation_colors)\n",
    "colors <- annotation_colors\n",
    "for (i in seq_along(names_colors)) {\n",
    "  plot_square_with_label(0.05, y_pos[i], colors[i], names_colors[i])\n",
    "}\n",
    "title(main = \"BCAA Blood Responder\", adj = 0, line = -0.5, cex.main = 0.8)\n",
    "dev.off()"
   ]
  }
 ],
 "metadata": {
  "kernelspec": {
   "display_name": "R [conda env:conda-py3_R] *",
   "language": "R",
   "name": "conda-env-conda-py3_R-r"
  },
  "language_info": {
   "codemirror_mode": "r",
   "file_extension": ".r",
   "mimetype": "text/x-r-source",
   "name": "R",
   "pygments_lexer": "r",
   "version": "4.1.3"
  }
 },
 "nbformat": 4,
 "nbformat_minor": 5
}
