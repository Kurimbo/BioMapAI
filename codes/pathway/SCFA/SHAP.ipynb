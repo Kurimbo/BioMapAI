{
 "cells": [
  {
   "cell_type": "code",
   "execution_count": 1,
   "id": "cbb2f94d",
   "metadata": {},
   "outputs": [],
   "source": [
    "root = \"../../..\""
   ]
  },
  {
   "cell_type": "code",
   "execution_count": 2,
   "id": "e0ab36bd",
   "metadata": {},
   "outputs": [],
   "source": [
    "import numpy as np\n",
    "import pandas as pd\n",
    "import seaborn as sns\n",
    "import matplotlib.pyplot as plt\n",
    "\n",
    "\n",
    "from joblib import load"
   ]
  },
  {
   "cell_type": "markdown",
   "id": "f4e58c5c",
   "metadata": {},
   "source": [
    "# Load data"
   ]
  },
  {
   "cell_type": "code",
   "execution_count": 3,
   "id": "2c41b66f",
   "metadata": {},
   "outputs": [],
   "source": [
    "kegg_decode = pd.read_csv(\"%s/output/pathway/SCFA/sankey/kegg_decode_sankey.csv\"%(root), index_col=0)\n",
    "blood_decode = pd.read_csv(\"%s/output/pathway/SCFA/sankey/responder_decode_sankey.csv\"%(root), index_col=0)\n",
    "kegg_list = kegg_decode.index.to_list()\n",
    "blood_list = blood_decode.index.to_list()"
   ]
  },
  {
   "cell_type": "code",
   "execution_count": 4,
   "id": "485783b6",
   "metadata": {},
   "outputs": [],
   "source": [
    "def shap_load(omics_name, omics_list):\n",
    "    omics_summary = dict()\n",
    "    shap_table = pd.DataFrame(0, index=range(12), columns=omics_list)\n",
    "    for i in range(12):\n",
    "        shap_values = load(\"%s/codes/AI/output/shap/%s_score_%s.pkl\"%(root, omics_name,i))\n",
    "        if len(shap_values.values)==4 or len(shap_values.values)==5: \n",
    "            shap_data = pd.DataFrame(shap_values.values[0], \n",
    "                                     columns = shap_values.feature_names)/len(shap_values.values)\n",
    "        else:\n",
    "            shap_data = pd.DataFrame(shap_values.values, columns = shap_values.feature_names)\n",
    "        \n",
    "        # normalize to overcome the vary feature total number by dividing of abosolute sum\n",
    "        shap_data_sum = shap_data.abs().sum(axis=0)\n",
    "        shap_data = shap_data / shap_data_sum\n",
    "        \n",
    "        omics_list = [i for i in omics_list if i in shap_data.columns]\n",
    "        shap_values = shap_data.loc[:,omics_list].mean(axis=0)\n",
    "        shap_table.loc[i, omics_list] = shap_values\n",
    "        \n",
    "    score_name = pd.read_csv(\"%s/codes/AI/input/score.csv\"%(root), index_col=0)\n",
    "    score_name = score_name.columns.to_list()\n",
    "    shap_table = shap_table.loc[:,omics_list]\n",
    "    shap_table.index = score_name\n",
    "    return shap_table.transpose()"
   ]
  },
  {
   "cell_type": "code",
   "execution_count": 5,
   "id": "f753eb5d",
   "metadata": {},
   "outputs": [
    {
     "name": "stderr",
     "output_type": "stream",
     "text": [
      "Using `tqdm.autonotebook.tqdm` in notebook mode. Use `tqdm.tqdm` instead to force console mode (e.g. in jupyter console)\n"
     ]
    }
   ],
   "source": [
    "kegg_shap = shap_load(\"kegg\",kegg_list)\n",
    "immune_shap = shap_load(\"immune\",blood_list)\n",
    "bioc_shap = shap_load(\"metabolome\",blood_list)"
   ]
  },
  {
   "cell_type": "markdown",
   "id": "8499107d",
   "metadata": {},
   "source": [
    "# Sum by catagories and write plot table"
   ]
  },
  {
   "cell_type": "code",
   "execution_count": 6,
   "id": "1a12e2a1",
   "metadata": {},
   "outputs": [],
   "source": [
    "kegg_shap.loc[:,'Annotation'] = kegg_decode.Annotation\n",
    "kegg_shap = kegg_shap.groupby('Annotation').sum()\n",
    "immune_shap.loc[:,'Annotation'] = blood_decode.loc[immune_shap.index,'Annotation']\n",
    "immune_shap = immune_shap.groupby('Annotation').sum()\n",
    "bioc_shap.loc[:,'Annotation'] = blood_decode.loc[bioc_shap.index,'Annotation']\n",
    "bioc_shap = bioc_shap.groupby('Annotation').sum()"
   ]
  },
  {
   "cell_type": "code",
   "execution_count": 7,
   "id": "f1b84ca4",
   "metadata": {},
   "outputs": [],
   "source": [
    "def score_name_modify_for_plot(x):\n",
    "    x = x.split('.')[1].replace(\"Role Limitations due to \", \"\")\n",
    "    x = x.replace(\"Energy/\", \"\")\n",
    "    x = x.replace(\"sleeping_problem\", \"Sleeping\\nProblem\")\n",
    "    x = x.replace(\"gastrointestinal\", \"Gastrointestinal\")\n",
    "    x = x.replace(\" \", \"\\n\")\n",
    "    return x"
   ]
  },
  {
   "cell_type": "code",
   "execution_count": 8,
   "id": "0120664f",
   "metadata": {},
   "outputs": [
    {
     "data": {
      "image/png": "[encoded data removed]",
      "text/plain": [
       "<Figure size 200x170 with 1 Axes>"
      ]
     },
     "metadata": {},
     "output_type": "display_data"
    }
   ],
   "source": [
    "# Set the style\n",
    "sns.set(style='ticks', font_scale=0.6, font='DejaVu Sans')\n",
    "\n",
    "# Create the figure and axis\n",
    "fig, ax = plt.subplots(figsize=(2,1.7), constrained_layout=True)\n",
    "\n",
    "# Combine data\n",
    "combined_df = pd.concat([kegg_shap, immune_shap, bioc_shap], keys=['Kegg', 'Metabolome', 'Immune'])\n",
    "\n",
    "# Create color dictionaries\n",
    "color_dict = {row['Annotation']: row['Color'] for index, row in pd.concat([blood_decode,kegg_decode]).iterrows()}\n",
    "\n",
    "# Prepare for plotting\n",
    "score_label_list = kegg_shap.columns.to_list()\n",
    "num_scores = len(score_label_list)\n",
    "bar_height = 0.7\n",
    "pos_start_list = [0] * num_scores\n",
    "neg_start_list = [0] * num_scores\n",
    "\n",
    "# Plotting loop\n",
    "for i, score_label in enumerate(reversed(score_label_list)):\n",
    "    for df_key in ['Kegg', 'Immune','Metabolome']:\n",
    "\n",
    "        score_values = combined_df.xs(df_key)[score_label]\n",
    "        pos_values = np.maximum(score_values, 0)\n",
    "        neg_values = np.minimum(score_values, 0)\n",
    "\n",
    "        for value_i in pos_values:\n",
    "            if value_i != 0:  \n",
    "                index_value_i = score_values.index[score_values == value_i][0]\n",
    "                color_now = color_dict[index_value_i]\n",
    "                ax.barh(i, value_i, left=pos_start_list[i], height=bar_height, color=color_now, edgecolor='black', linewidth=0.2)\n",
    "                pos_start_list[i] += value_i\n",
    "\n",
    "        for value_i in neg_values:\n",
    "            if value_i != 0:\n",
    "                index_value_i = score_values.index[score_values == value_i][0]\n",
    "                color_now = color_dict[index_value_i]  \n",
    "                ax.barh(i, value_i, left=neg_start_list[i], height=bar_height, color=color_now, edgecolor='black', linewidth=0.2)\n",
    "                neg_start_list[i] += value_i\n",
    "\n",
    "\n",
    "# Axis and label formatting\n",
    "ax.axvline(x=0, color='black')\n",
    "ax.spines['top'].set_visible(False)\n",
    "ax.spines['right'].set_visible(False)\n",
    "ax.spines['left'].set_visible(False)\n",
    "ax.tick_params(left=False, bottom=False, labelleft=False, labelbottom=True)\n",
    "\n",
    "# Set x-axis limits\n",
    "max_range = max(abs(ax.get_xlim()[0]), abs(ax.get_xlim()[1]))\n",
    "ax.set_xlim([-max_range, max_range])\n",
    "ax.tick_params(axis='x', direction='in', pad=-8)\n",
    "\n",
    "# Add labels for the highest positive and lowest negative values\n",
    "max_pos_y_position = np.argmax(pos_start_list)\n",
    "min_neg_y_position = np.argmin(neg_start_list)\n",
    "\n",
    "ax.text(0, max_pos_y_position, score_name_modify_for_plot(score_label_list[11-max_pos_y_position]), \n",
    "        ha='left', va='center', c = \"black\", fontsize=8, fontweight='bold')\n",
    "ax.text(0, min_neg_y_position, score_name_modify_for_plot(score_label_list[11-min_neg_y_position]),\n",
    "        ha='right', va='center', c = \"black\", fontsize=8, fontweight='bold')\n",
    "\n",
    "# Save the figure\n",
    "plt.savefig(\"%s/output/pathway/SCFA/Score_SHAP.png\" %(root), dpi=1000, bbox_inches='tight', transparent=True)"
   ]
  }
 ],
 "metadata": {
  "kernelspec": {
   "display_name": "Python [conda env:conda-py3_R] *",
   "language": "python",
   "name": "conda-env-conda-py3_R-py"
  },
  "language_info": {
   "codemirror_mode": {
    "name": "ipython",
    "version": 3
   },
   "file_extension": ".py",
   "mimetype": "text/x-python",
   "name": "python",
   "nbconvert_exporter": "python",
   "pygments_lexer": "ipython3",
   "version": "3.9.13"
  }
 },
 "nbformat": 4,
 "nbformat_minor": 5
}
