{
 "cells": [
  {
   "cell_type": "code",
   "execution_count": 1,
   "id": "4971cce2",
   "metadata": {},
   "outputs": [],
   "source": [
    "setwd(\"../../\")\n",
    "pacman::p_load(ggplot2, dplyr, stringr, lme4, tidyverse, ComplexHeatmap, WGCNA)\n",
    "options(stringsAsFactors = FALSE)"
   ]
  },
  {
   "cell_type": "markdown",
   "id": "c16d4737",
   "metadata": {},
   "source": [
    "---\n",
    "# write eigengenes supplimental table"
   ]
  },
  {
   "cell_type": "code",
   "execution_count": 2,
   "id": "1140e86a",
   "metadata": {},
   "outputs": [],
   "source": [
    "wgcna_result = readRDS(\"output/correlation/table/WGCNA_geneTrees.rds\")\n",
    "module_decode = read.csv(\"output/correlation/table/Module_decode.csv\", header = T, row.names = 1)\n",
    "module_decode$category = str_split_fixed(rownames(module_decode),\"\\\\.\",2)[,1]\n",
    "module_decode$color = str_split_fixed(rownames(module_decode),\"\\\\.\",2)[,2]"
   ]
  },
  {
   "cell_type": "code",
   "execution_count": 3,
   "id": "c7d25fb4",
   "metadata": {},
   "outputs": [],
   "source": [
    "abun_me = wgcna_result$abun_result$MEs\n",
    "bioc_me = wgcna_result$bioc_result$MEs\n",
    "immune_me = wgcna_result$immune_result$MEs\n",
    "kegg_me = wgcna_result$kegg_result$MEs\n",
    "abun_me = abun_me[,colnames(abun_me) %in% rownames(module_decode)]\n",
    "bioc_me = bioc_me[,colnames(bioc_me) %in% rownames(module_decode)]\n",
    "immune_me = immune_me[,colnames(immune_me) %in% rownames(module_decode)]\n",
    "kegg_me = kegg_me[,colnames(kegg_me) %in% rownames(module_decode)]"
   ]
  },
  {
   "cell_type": "code",
   "execution_count": 4,
   "id": "e83a8b23",
   "metadata": {},
   "outputs": [],
   "source": [
    "eigengenes_table = list(abun_me, kegg_me, immune_me, bioc_me) %>%\n",
    "  map(~ .x %>% rownames_to_column(\"rowname\")) %>%\n",
    "  reduce(full_join, by = \"rowname\") %>%\n",
    "  column_to_rownames(\"rowname\")\n",
    "eigengenes_table_full = rbind(module_decode[,c('decode','member_counts')] %>% t(), eigengenes_table)\n",
    "write.csv(eigengenes_table_full, \"output/correlation/table/Module_Eigengene_Full.csv\")"
   ]
  },
  {
   "cell_type": "code",
   "execution_count": 5,
   "id": "2c54e4e3",
   "metadata": {},
   "outputs": [],
   "source": [
    "module_decode$Decode = module_decode$decode\n",
    "module_decode$Decode = str_replace_all(module_decode$Decode, \" \", \"\")\n",
    "module_decode$Decode = str_replace_all(module_decode$Decode, \"\\\\+\", \"\")\n",
    "module_decode$Decode = str_replace_all(module_decode$Decode, \"\\\\/\", \"\")\n",
    "colnames(abun_me) = module_decode[colnames(abun_me),'Decode']\n",
    "colnames(bioc_me) = module_decode[colnames(bioc_me),'Decode']\n",
    "colnames(immune_me) = module_decode[colnames(immune_me),'Decode']\n",
    "colnames(kegg_me) = module_decode[colnames(kegg_me),'Decode']\n",
    "colnames(eigengenes_table) = module_decode[colnames(eigengenes_table),'Decode']\n",
    "sample_list = rownames(eigengenes_table)\n",
    "rownames(module_decode) = module_decode$Decode\n",
    "module_decode=module_decode[colnames(eigengenes_table),]"
   ]
  },
  {
   "cell_type": "code",
   "execution_count": 6,
   "id": "ff728cde",
   "metadata": {},
   "outputs": [],
   "source": [
    "meta_data = read.csv(\"data/metadata/Metadata_061523.csv\", row.names = 1, header = T)\n",
    "meta_data = meta_data[sample_list, ]"
   ]
  },
  {
   "cell_type": "code",
   "execution_count": 7,
   "id": "effd3678",
   "metadata": {},
   "outputs": [],
   "source": [
    "score = read.csv(\"codes/AI/input/score.csv\", row.names = 1, header = T)\n",
    "score = score[sample_list, ]"
   ]
  },
  {
   "cell_type": "markdown",
   "id": "a199202d",
   "metadata": {},
   "source": [
    "---\n",
    "# linear regression"
   ]
  },
  {
   "cell_type": "code",
   "execution_count": 8,
   "id": "86817490",
   "metadata": {},
   "outputs": [],
   "source": [
    "fit_lmm_eigengene <- function(data) {\n",
    "    variables = colnames(data)\n",
    "    feature_names = colnames(eigengenes_table)\n",
    "    data <- cbind(eigengenes_table, data, sample_id_tp1 = meta_data[['sample_id_tp1']])\n",
    "    \n",
    "    result_table <- data.frame()\n",
    "    for (i in feature_names) {\n",
    "        formula <- as.formula(paste(i, \" ~ \", paste(variables, collapse = \"+\"), \"+ (1|sample_id_tp1)\"))\n",
    "        model <- suppressMessages(suppressWarnings(lmer(formula, data = data)))\n",
    "        summary_mat <- summary(model)$coefficients\n",
    "        tvalue <- summary_mat[,'t value']\n",
    "    \n",
    "    # If it's the first feature, initialize the result_table with row names\n",
    "    if (dim(result_table)[1] == 0) {\n",
    "      result_table <- matrix(0, ncol = length(feature_names), nrow = length(tvalue))\n",
    "      rownames(result_table) <- names(tvalue)\n",
    "      colnames(result_table) <- feature_names\n",
    "    }\n",
    "    result_table[,i] <- tvalue\n",
    "  }\n",
    "  return(result_table)\n",
    "}"
   ]
  },
  {
   "cell_type": "code",
   "execution_count": 9,
   "id": "5f7a3abd",
   "metadata": {},
   "outputs": [],
   "source": [
    "data = meta_data[,c('study_ptorhc','illness_duration',\n",
    "              'age','gender','bmi','race','ethnic',\n",
    "              'diet_meat','diet_sugar','diet_veg','diet_grains','diet_fruit',\n",
    "               'antifungals','antibiotics','probiotics','antivirals')]\n",
    "meta_eigengenes =  fit_lmm_eigengene(data)"
   ]
  },
  {
   "cell_type": "code",
   "execution_count": 10,
   "id": "28a347fe",
   "metadata": {},
   "outputs": [],
   "source": [
    "score_eigengenes =  fit_lmm_eigengene(score)"
   ]
  },
  {
   "cell_type": "markdown",
   "id": "aa8140e9",
   "metadata": {},
   "source": [
    "---\n",
    "# Coefficients Heatmap"
   ]
  },
  {
   "cell_type": "code",
   "execution_count": 11,
   "id": "d8cbd626",
   "metadata": {},
   "outputs": [
    {
     "data": {
      "text/html": [
       "<strong>png:</strong> 2"
      ],
      "text/latex": [
       "\\textbf{png:} 2"
      ],
      "text/markdown": [
       "**png:** 2"
      ],
      "text/plain": [
       "png \n",
       "  2 "
      ]
     },
     "metadata": {},
     "output_type": "display_data"
    }
   ],
   "source": [
    "pdf(\"output/correlation/figure/Linear_Model_Coefficients.pdf\", width = 10, height = 6.5)\n",
    "\n",
    "col_fun = circlize::colorRamp2(c(-4.5,0,4.5), c(\"blue\",\"white\",\"red\"))\n",
    "annotation_text = module_decode$category\n",
    "annotation_text = factor(annotation_text, levels = (unique(annotation_text)))\n",
    "annotation_colors = module_decode$color\n",
    "names(annotation_colors) = module_decode$Decode\n",
    "module_colors = list(WGCNA_Color = annotation_colors)\n",
    "col_an = HeatmapAnnotation(WGCNA_Color = module_decode$Decode, col = module_colors, \n",
    "                           annotation_name_gp = gpar(fontsize = 12),\n",
    "                           show_legend = FALSE)\n",
    "\n",
    "meta_plot = Heatmap(meta_eigengenes, cluster_rows = FALSE, cluster_columns = FALSE, \n",
    "                    column_split = annotation_text,col = col_fun,column_title=NULL,\n",
    "                    top_annotation = col_an,\n",
    "                    row_names_gp = gpar(fontsize = 10),show_heatmap_legend=F)\n",
    "score_plot = Heatmap(score_eigengenes, cluster_rows = FALSE, cluster_columns = FALSE, col = col_fun,\n",
    "                    column_split = annotation_text, \n",
    "                    column_labels = module_decode$decode,\n",
    "                    column_names_gp = gpar(fontsize = 12),\n",
    "                    row_names_gp = gpar(fontsize = 10),  \n",
    "                    heatmap_legend_param = list(title = \"Linear Model \\nCoefficients\", \n",
    "                                                 title_gp = gpar(fontsize = 10)))\n",
    "meta_plot %v% score_plot\n",
    "dev.off()"
   ]
  },
  {
   "cell_type": "markdown",
   "id": "c4be6411",
   "metadata": {},
   "source": [
    "# WGCNA Trees"
   ]
  },
  {
   "cell_type": "code",
   "execution_count": 12,
   "id": "0540397b",
   "metadata": {},
   "outputs": [
    {
     "data": {
      "text/plain": [
       "\n",
       "    Immune       KEGG Metabolome     Specie \n",
       "         9          6          9          7 "
      ]
     },
     "metadata": {},
     "output_type": "display_data"
    }
   ],
   "source": [
    "table(module_decode$category)"
   ]
  },
  {
   "cell_type": "code",
   "execution_count": 13,
   "id": "08bb4f5c",
   "metadata": {},
   "outputs": [
    {
     "data": {
      "text/html": [
       "<strong>png:</strong> 2"
      ],
      "text/latex": [
       "\\textbf{png:} 2"
      ],
      "text/markdown": [
       "**png:** 2"
      ],
      "text/plain": [
       "png \n",
       "  2 "
      ]
     },
     "metadata": {},
     "output_type": "display_data"
    },
    {
     "data": {
      "text/html": [
       "<strong>png:</strong> 2"
      ],
      "text/latex": [
       "\\textbf{png:} 2"
      ],
      "text/markdown": [
       "**png:** 2"
      ],
      "text/plain": [
       "png \n",
       "  2 "
      ]
     },
     "metadata": {},
     "output_type": "display_data"
    },
    {
     "data": {
      "text/html": [
       "<strong>png:</strong> 2"
      ],
      "text/latex": [
       "\\textbf{png:} 2"
      ],
      "text/markdown": [
       "**png:** 2"
      ],
      "text/plain": [
       "png \n",
       "  2 "
      ]
     },
     "metadata": {},
     "output_type": "display_data"
    },
    {
     "data": {
      "text/html": [
       "<strong>png:</strong> 2"
      ],
      "text/latex": [
       "\\textbf{png:} 2"
      ],
      "text/markdown": [
       "**png:** 2"
      ],
      "text/plain": [
       "png \n",
       "  2 "
      ]
     },
     "metadata": {},
     "output_type": "display_data"
    }
   ],
   "source": [
    "pdf(\"output/correlation/figure/Species_tree.pdf\", width = 7/2, height = 2.8)\n",
    "plotDendroAndColors(wgcna_result$abun_result$geneTree, wgcna_result$abun_result$mergedColors, \n",
    "                    main=NULL, dendroLabels = FALSE, hang = 0.03, addGuide = TRUE, guideHang = 0.05, )\n",
    "dev.off()\n",
    "pdf(\"output/correlation/figure/Immune_tree.pdf\", width = 9/2, height = 2.65)\n",
    "plotDendroAndColors(wgcna_result$immune_result$geneTree, wgcna_result$immune_result$mergedColors, \n",
    "                    main=NULL, dendroLabels = FALSE, hang = 0.03, addGuide = TRUE, guideHang = 0.05, )\n",
    "dev.off()\n",
    "pdf(\"output/correlation/figure/Metabolome_tree.pdf\", width = 9/2, height = 2.65)\n",
    "plotDendroAndColors(wgcna_result$bioc_result$geneTree, wgcna_result$bioc_result$mergedColors, \n",
    "                    main=NULL, dendroLabels = FALSE, hang = 0.03, addGuide = TRUE, guideHang = 0.05, )\n",
    "dev.off()\n",
    "pdf(\"output/correlation/figure/KEGG_tree.pdf\", width = 6/2, height = 2.5)\n",
    "plotDendroAndColors(wgcna_result$kegg_result$geneTree, wgcna_result$kegg_result$mergedColors, \n",
    "                    main=NULL, dendroLabels = FALSE, hang = 0.03, addGuide = TRUE, guideHang = 0.05, )\n",
    "dev.off()"
   ]
  }
 ],
 "metadata": {
  "kernelspec": {
   "display_name": "R [conda env:conda-py3_R] *",
   "language": "R",
   "name": "conda-env-conda-py3_R-r"
  },
  "language_info": {
   "codemirror_mode": "r",
   "file_extension": ".r",
   "mimetype": "text/x-r-source",
   "name": "R",
   "pygments_lexer": "r",
   "version": "4.1.3"
  }
 },
 "nbformat": 4,
 "nbformat_minor": 5
}
