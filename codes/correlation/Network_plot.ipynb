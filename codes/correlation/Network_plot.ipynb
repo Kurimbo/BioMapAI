{
 "cells": [
  {
   "cell_type": "code",
   "execution_count": 1,
   "id": "4971cce2",
   "metadata": {},
   "outputs": [],
   "source": [
    "setwd(\"../..\")\n",
    "pacman::p_load(ggplot2, dplyr, stringr, igraph, reshape2, lme4, tidyr)\n",
    "options(stringsAsFactors = FALSE)"
   ]
  },
  {
   "cell_type": "code",
   "execution_count": 2,
   "id": "63a085d2",
   "metadata": {},
   "outputs": [],
   "source": [
    "color_map = c(\"#70ada1\", \"#f2c18f\", \"#f28f8f\", \"#a099c9\")\n",
    "names(color_map) = c('Immune','Specie','KEGG','Metabolome')"
   ]
  },
  {
   "cell_type": "markdown",
   "id": "c16d4737",
   "metadata": {},
   "source": [
    "---\n",
    "# Input"
   ]
  },
  {
   "cell_type": "code",
   "execution_count": 3,
   "id": "2c54e4e3",
   "metadata": {},
   "outputs": [],
   "source": [
    "wgcna_result = readRDS(\"output/correlation/table/WGCNA_geneTrees.rds\")\n",
    "module_decode = read.csv(\"output/correlation/table/Module_decode.csv\", header = T, row.names = 1)"
   ]
  },
  {
   "cell_type": "code",
   "execution_count": 4,
   "id": "143fde32",
   "metadata": {},
   "outputs": [],
   "source": [
    "abun_me = wgcna_result$abun_result$MEs\n",
    "bioc_me = wgcna_result$bioc_result$MEs\n",
    "immune_me = wgcna_result$immune_result$MEs\n",
    "kegg_me = wgcna_result$kegg_result$MEs"
   ]
  },
  {
   "cell_type": "code",
   "execution_count": 5,
   "id": "ae28a532",
   "metadata": {},
   "outputs": [],
   "source": [
    "abun_me = abun_me[,rownames(module_decode)[grepl('Specie',rownames(module_decode))]]\n",
    "kegg_me = kegg_me[,rownames(module_decode)[grepl('KEGG',rownames(module_decode))]]\n",
    "immune_me = immune_me[,rownames(module_decode)[grepl('Immune',rownames(module_decode))]]\n",
    "bioc_me = bioc_me[,rownames(module_decode)[grepl('Metabolome',rownames(module_decode))]]"
   ]
  },
  {
   "cell_type": "code",
   "execution_count": 6,
   "id": "3980d171",
   "metadata": {},
   "outputs": [],
   "source": [
    "sample=Reduce(intersect, list(rownames(abun_me),rownames(bioc_me),rownames(kegg_me),rownames(immune_me)))\n",
    "table = cbind(abun_me[sample,], bioc_me[sample,], kegg_me[sample,], immune_me[sample,])"
   ]
  },
  {
   "cell_type": "code",
   "execution_count": 7,
   "id": "ff728cde",
   "metadata": {},
   "outputs": [],
   "source": [
    "meta_data = read.csv(\"data/metadata/Metadata_100322.csv\", row.names = 1, header = T)\n",
    "meta_data = meta_data[sample, ]"
   ]
  },
  {
   "cell_type": "code",
   "execution_count": 8,
   "id": "5ebf1e46",
   "metadata": {},
   "outputs": [],
   "source": [
    "subgroup_list = readRDS(file = \"codes/correlation/Subgroup_sample_list.RDS\")\n",
    "subgroup_list = sapply(subgroup_list, function(X){X[X %in% rownames(table)]})"
   ]
  },
  {
   "cell_type": "code",
   "execution_count": 9,
   "id": "9f509c60",
   "metadata": {},
   "outputs": [],
   "source": [
    "corr_mat_list = lapply(subgroup_list, function(X){cor(table[X,], method = 'spearman')})"
   ]
  },
  {
   "cell_type": "markdown",
   "id": "d8f0d9b5",
   "metadata": {},
   "source": [
    "# Define the base line (the comparison group)"
   ]
  },
  {
   "cell_type": "code",
   "execution_count": 10,
   "id": "b8ea9062",
   "metadata": {},
   "outputs": [],
   "source": [
    "corr_rev_list = lapply(subgroup_list, function(X){cor(table[!(rownames(table)%in%X),], method = 'spearman')})"
   ]
  },
  {
   "cell_type": "code",
   "execution_count": 11,
   "id": "36ed3cfd",
   "metadata": {},
   "outputs": [],
   "source": [
    "healthy_name_list = names(corr_mat_list)[grepl(pattern = \"Healthy\",x = names(corr_mat_list))]\n",
    "patient_name_list = names(corr_mat_list)[grepl(pattern = \"Patient|Long|Short|IBS|Infection\",\n",
    "                                               x = names(corr_mat_list))]\n",
    "for (i in patient_name_list) {corr_rev_list[[i]] = corr_mat_list[['Healthy']]}\n",
    "for (i in healthy_name_list) {corr_rev_list[[i]] = corr_mat_list[['Patient']]}"
   ]
  },
  {
   "cell_type": "markdown",
   "id": "95704afe",
   "metadata": {},
   "source": [
    "# Plot Healthy"
   ]
  },
  {
   "cell_type": "code",
   "execution_count": 12,
   "id": "48cc0e43",
   "metadata": {},
   "outputs": [],
   "source": [
    "set.seed(123)\n",
    "mat = corr_mat_list$Healthy\n",
    "network = graph_from_adjacency_matrix(abs(mat), weighted=T, mode=\"undirected\", diag=F)\n",
    "layout = layout_with_fr(network)"
   ]
  },
  {
   "cell_type": "code",
   "execution_count": 13,
   "id": "3aecb18c",
   "metadata": {},
   "outputs": [
    {
     "data": {
      "text/html": [
       "<strong>png:</strong> 2"
      ],
      "text/latex": [
       "\\textbf{png:} 2"
      ],
      "text/markdown": [
       "**png:** 2"
      ],
      "text/plain": [
       "png \n",
       "  2 "
      ]
     },
     "metadata": {},
     "output_type": "display_data"
    }
   ],
   "source": [
    "vertices = get.data.frame(network, what=\"vertices\")\n",
    "vertices$color = color_map[str_split_fixed(vertices$name, \"\\\\.\",2)[,1]]\n",
    "vertices$size = sqrt(module_decode[vertices$name, 'size'])*2\n",
    "vertices$name = module_decode[vertices$name, 'decode']\n",
    "\n",
    "edges = get.data.frame(network, what=\"edges\")\n",
    "edge_color_map <- colorRampPalette(c(\"#2166ac\", \"#f7f7f7\", \"#b2182b\"))(1000)\n",
    "edge_color_mapping <- function(x) {\n",
    "    edge_color_map[findInterval(x, seq(-0.3, 0.3, length.out = 1000), all.inside = TRUE)]\n",
    "  } \n",
    "\n",
    "for (i in 1:nrow(edges)) {\n",
    "    corr_i = mat[edges[i,'from'],edges[i,'to']]\n",
    "    edges[i, 'corr'] = corr_i\n",
    "    edges[i, 'color'] = edge_color_mapping(corr_i)\n",
    "    edges[i, 'weight'] = corr_i * 6\n",
    "    }\n",
    "\n",
    "edges$color = adjustcolor(edges$color, alpha.f = 0.6)\n",
    "\n",
    "pdf(\"output/correlation/figure/Network_Healthy.pdf\", width=6, height=7)\n",
    "plot(network,    \n",
    "     layout=layout,\n",
    "    vertex.size=vertices$size,\n",
    "    vertex.color=vertices$color,\n",
    "    vertex.label = vertices$name,\n",
    "    vertex.label.cex=0.9,\n",
    "    vertex.label.font=1,\n",
    "    vertex.label.color=\"black\",\n",
    "    vertex.frame.color=\"grey\",     \n",
    "    edge.color=edges$color,\n",
    "    edge.width=abs(edges$weight),\n",
    "    edge.curved=0.2\n",
    "    )\n",
    "dev.off()"
   ]
  },
  {
   "cell_type": "code",
   "execution_count": 14,
   "id": "338c4c4f",
   "metadata": {},
   "outputs": [
    {
     "data": {
      "text/html": [
       "<strong>png:</strong> 2"
      ],
      "text/latex": [
       "\\textbf{png:} 2"
      ],
      "text/markdown": [
       "**png:** 2"
      ],
      "text/plain": [
       "png \n",
       "  2 "
      ]
     },
     "metadata": {},
     "output_type": "display_data"
    }
   ],
   "source": [
    "pdf(\"output/correlation/figure/Network_Healthy_legend.pdf\", width = 1, height = 3, bg = \"transparent\")\n",
    "edges = edges[order(edges$corr),]\n",
    "par(mar=c(2.5,0.5,2.5,0.5))\n",
    "barplot(edges$corr, \n",
    "        col = edges$color, \n",
    "        width = abs(edges$weight), \n",
    "        border = NA, \n",
    "        main = \"Spearman\\nCoefficient\",\n",
    "        horiz = TRUE)\n",
    "dev.off()"
   ]
  },
  {
   "cell_type": "markdown",
   "id": "7a542bb9",
   "metadata": {},
   "source": [
    "# Plot Patient, compare to healthy"
   ]
  },
  {
   "cell_type": "code",
   "execution_count": 16,
   "id": "65e05fba",
   "metadata": {},
   "outputs": [],
   "source": [
    "edge_color_map <- colorRampPalette(c(\"#2166ac\", \"#f7f7f7\", \"#b2182b\"))(1000)\n",
    "\n",
    "edge_color_mapping <- function(x, cutoff) {\n",
    "  # Get the color based on the edge weight\n",
    "  color <- edge_color_map[findInterval(x, seq(-cutoff, cutoff, length.out = 1000), all.inside = TRUE)]\n",
    "  \n",
    "  # Calculate alpha based on the absolute edge weight, scaled from 0 (transparent) to 1 (opaque)\n",
    "  alpha <- abs(x) / cutoff\n",
    "  alpha[alpha > 1] <- 1  # Ensure alpha doesn't exceed 1\n",
    "  \n",
    "  # Combine color with alpha\n",
    "  rgb_color <- col2rgb(color) / 255  # Convert color to RGB\n",
    "  rgb_color <- apply(rgb_color, 2, function(col) rgb(col[1], col[2], col[3], alpha, maxColorValue = 1))\n",
    "  return(rgb_color)\n",
    "}\n"
   ]
  },
  {
   "cell_type": "code",
   "execution_count": 17,
   "id": "b48e9301",
   "metadata": {},
   "outputs": [],
   "source": [
    "plot_patient <- function(mat, base_line, network=network, layout=layout) {\n",
    "  vertices = get.data.frame(network, what=\"vertices\")\n",
    "  vertices$color = color_map[str_split_fixed(vertices$name, \"\\\\.\",2)[,1]]\n",
    "  vertices$size = sqrt(module_decode[vertices$name, 'size'])*2\n",
    "  vertices$name = module_decode[vertices$name, 'decode']\n",
    "    \n",
    "  edges <- get.data.frame(network, what = \"edges\")\n",
    "  \n",
    "  # Initialize edges\n",
    "  edges$color <- '#f7f7f7'\n",
    "  edges$weight <- 0\n",
    "  \n",
    "  # Update edges and vertices based on conditions\n",
    "  for (i in 1:nrow(edges)) {\n",
    "    corr_i <- mat[edges[i, 'from'], edges[i, 'to']]\n",
    "    base_i <- base_line[edges[i, 'from'], edges[i, 'to']]\n",
    "    diff <- corr_i - base_i\n",
    "    edges[i, 'diff'] = diff\n",
    "    edges[i, 'color'] <- edge_color_mapping(diff, cutoff = 0.4)\n",
    "    edges[i, 'weight'] <- diff * 6\n",
    "    }\n",
    "    \n",
    "  # Plot the network\n",
    "  plot(network,    \n",
    "     layout=layout,\n",
    "    vertex.size=vertices$size,\n",
    "    vertex.color=vertices$color,\n",
    "    vertex.label = vertices$name,\n",
    "    vertex.label.cex=0.9,\n",
    "    vertex.label.font=1,\n",
    "    vertex.label.color=\"black\",\n",
    "    vertex.frame.color=\"grey\",     \n",
    "    edge.color=edges$color,\n",
    "    edge.width=abs(edges$weight),\n",
    "    edge.curved=0.2\n",
    "    )  \n",
    "    \n",
    "  return(edges)\n",
    "}"
   ]
  },
  {
   "cell_type": "code",
   "execution_count": 18,
   "id": "c6022b50",
   "metadata": {},
   "outputs": [
    {
     "data": {
      "text/html": [
       "<strong>png:</strong> 2"
      ],
      "text/latex": [
       "\\textbf{png:} 2"
      ],
      "text/markdown": [
       "**png:** 2"
      ],
      "text/plain": [
       "png \n",
       "  2 "
      ]
     },
     "metadata": {},
     "output_type": "display_data"
    },
    {
     "data": {
      "text/html": [
       "<strong>png:</strong> 2"
      ],
      "text/latex": [
       "\\textbf{png:} 2"
      ],
      "text/markdown": [
       "**png:** 2"
      ],
      "text/plain": [
       "png \n",
       "  2 "
      ]
     },
     "metadata": {},
     "output_type": "display_data"
    }
   ],
   "source": [
    "pdf(\"output/correlation/figure/Network_Patient.pdf\", width=6, height=7)\n",
    "edges = plot_patient(corr_mat_list[['Patient']], corr_rev_list[['Patient']], network, layout)\n",
    "dev.off()\n",
    "\n",
    "pdf(\"output/correlation/figure/Network_Patient_legend.pdf\", width=2, height=3, bg = \"transparent\")\n",
    "edges = edges[order(edges$diff),]\n",
    "par(mar=c(2.5,0.5,2.5,0.5))\n",
    "barplot(edges$diff, \n",
    "        col = edges$color, \n",
    "        width = abs(edges$weight), \n",
    "        border = NA, \n",
    "        main = \"Coefficient\\nDelta\",\n",
    "        horiz = TRUE)\n",
    "dev.off()"
   ]
  },
  {
   "cell_type": "markdown",
   "id": "8027e35c",
   "metadata": {},
   "source": [
    "# Plot by subgroups"
   ]
  },
  {
   "cell_type": "code",
   "execution_count": 19,
   "id": "64ee1add",
   "metadata": {},
   "outputs": [],
   "source": [
    "plot_one_group <- function(mat, base_line, network=network, layout=layout, name) {\n",
    "  # Get vertices and edges data frames from the network\n",
    "  vertices <- get.data.frame(network, what = \"vertices\")\n",
    "  edges <- get.data.frame(network, what = \"edges\")\n",
    "  \n",
    "  # Initialize vertices\n",
    "  vertices$color <- 'grey'\n",
    "  vertices$name <- ''\n",
    "  vertices$size <- 8\n",
    "  \n",
    "  # Initialize edges\n",
    "  edges$color <- '#f7f7f7'\n",
    "  edges$weight <- mat[cbind(edges$from, edges$to)] * 3\n",
    "  \n",
    "  # Update edges and vertices based on conditions\n",
    "  for (i in 1:nrow(edges)) {\n",
    "    corr_i <- mat[edges[i, 'from'], edges[i, 'to']]\n",
    "    base_i <- base_line[edges[i, 'from'], edges[i, 'to']]\n",
    "    diff <- corr_i - base_i\n",
    "    edges[i, 'diff']=diff\n",
    "    if (abs(diff) > 0.3) {\n",
    "      edges[i, 'color'] <- edge_color_mapping(diff, cutoff = 0.4)\n",
    "      edges[i, 'weight'] <- diff * 6\n",
    "      \n",
    "      from_module <- str_split_fixed(edges[i, 'from'], \"\\\\.\", 2)[, 1]\n",
    "      to_module <- str_split_fixed(edges[i, 'to'], \"\\\\.\", 2)[, 1]\n",
    "      \n",
    "      vertices[edges[i, 'from'], 'color'] <- color_map[from_module]\n",
    "      vertices[edges[i, 'to'], 'color'] <- color_map[to_module]\n",
    "      \n",
    "      vertices[edges[i, 'from'], 'name'] <- module_decode[edges[i, 'from'], 'decode']\n",
    "      vertices[edges[i, 'to'], 'name'] <- module_decode[edges[i, 'to'], 'decode']\n",
    "        \n",
    "      vertices[edges[i, 'from'], 'size'] <- 10\n",
    "      vertices[edges[i, 'to'], 'size'] <- 10\n",
    "    }\n",
    "  }\n",
    "  \n",
    "  # Plot the network\n",
    "  plot(network,\n",
    "             layout = layout,\n",
    "             vertex.size = vertices$size,\n",
    "             vertex.label.cex = 0.9,\n",
    "             vertex.label.font = 1,\n",
    "             vertex.color = vertices$color,\n",
    "             vertex.label = vertices$name,\n",
    "             vertex.label.color = \"black\",\n",
    "             vertex.frame.color = \"transparent\",\n",
    "             edge.color = edges$color,\n",
    "             edge.width = abs(edges$weight),\n",
    "             edge.curved = 0.2\n",
    "  )\n",
    " name = str_replace(name,\"_\",\" \")\n",
    " title(main = paste0(\"\\n\", name), cex.main = 2)\n",
    "    \n",
    " return(edges)\n",
    "}"
   ]
  },
  {
   "cell_type": "code",
   "execution_count": 20,
   "id": "dad20cb0",
   "metadata": {},
   "outputs": [
    {
     "data": {
      "text/html": [
       "<strong>png:</strong> 2"
      ],
      "text/latex": [
       "\\textbf{png:} 2"
      ],
      "text/markdown": [
       "**png:** 2"
      ],
      "text/plain": [
       "png \n",
       "  2 "
      ]
     },
     "metadata": {},
     "output_type": "display_data"
    },
    {
     "data": {
      "text/html": [
       "<strong>png:</strong> 2"
      ],
      "text/latex": [
       "\\textbf{png:} 2"
      ],
      "text/markdown": [
       "**png:** 2"
      ],
      "text/plain": [
       "png \n",
       "  2 "
      ]
     },
     "metadata": {},
     "output_type": "display_data"
    }
   ],
   "source": [
    "group_name = c('Young_Patient','Female_Patient','NormalWeight_Patient','IBS',\n",
    "              'Elder_Patient','Male_Patient','OverWeight_Patient','Infection')\n",
    "\n",
    "pdf(\"output/correlation/figure/Network_Patient_Subgroups.pdf\", width=10, height=5)\n",
    "\n",
    "par(mfrow=c(2, 4),    # 2x4 grid\n",
    "    mar=c(0,2,0,2),  # c(bottom, left, top, right)\n",
    "    oma=c(0,1,0,1))  # Outer margins\n",
    "edges = data.frame()\n",
    "for (name in group_name) {\n",
    "    mat = corr_mat_list[[name]]\n",
    "    base_line = corr_rev_list[[name]]\n",
    "    edges_i = plot_one_group(mat, base_line, network, layout, name)\n",
    "    edges = rbind(edges, edges_i)\n",
    "}\n",
    "dev.off()\n",
    "\n",
    "pdf(\"output/correlation/figure/Network_Patient_Subgroups_legend.pdf\", width=1.5, height=3, bg = \"transparent\")\n",
    "edges = edges[order(edges$diff),]\n",
    "par(mar=c(2.5,0.5,2.5,0.5))\n",
    "barplot(edges$diff, \n",
    "        col = edges$color, \n",
    "        width = abs(edges$weight), \n",
    "        border = NA, \n",
    "        main = \"Coefficient\\nDelta\",\n",
    "        horiz = TRUE)\n",
    "dev.off()"
   ]
  },
  {
   "cell_type": "code",
   "execution_count": 21,
   "id": "28102eb1",
   "metadata": {},
   "outputs": [
    {
     "data": {
      "text/html": [
       "<strong>png:</strong> 2"
      ],
      "text/latex": [
       "\\textbf{png:} 2"
      ],
      "text/markdown": [
       "**png:** 2"
      ],
      "text/plain": [
       "png \n",
       "  2 "
      ]
     },
     "metadata": {},
     "output_type": "display_data"
    },
    {
     "data": {
      "text/html": [
       "<strong>png:</strong> 2"
      ],
      "text/latex": [
       "\\textbf{png:} 2"
      ],
      "text/markdown": [
       "**png:** 2"
      ],
      "text/plain": [
       "png \n",
       "  2 "
      ]
     },
     "metadata": {},
     "output_type": "display_data"
    }
   ],
   "source": [
    "group_name = c('Young_Healthy','Female_Healthy','NormalWeight_Healthy',\n",
    "               'Elder_Healthy','Male_Healthy','OverWeight_Healthy')\n",
    "\n",
    "pdf(\"output/correlation/figure/Network_Healthy_Subgroups.pdf\", width=8.5, height=6)\n",
    "\n",
    "par(mfrow=c(2, 3),   \n",
    "    mar=c(0,2,0,2),  # c(bottom, left, top, right)\n",
    "    oma=c(0,1,0,1))  # Outer margins\n",
    "edges = data.frame()\n",
    "for (name in group_name) {\n",
    "    mat = corr_mat_list[[name]]\n",
    "    base_line = corr_rev_list[[name]]\n",
    "    edges_i = plot_one_group(mat, base_line, network, layout, name)\n",
    "    edges = rbind(edges, edges_i)\n",
    "}\n",
    "dev.off()\n",
    "\n",
    "pdf(\"output/correlation/figure/Network_Healthy_Subgroups_legend.pdf\", width=1.5, height=3, bg = \"transparent\")\n",
    "edges = edges[order(edges$diff),]\n",
    "par(mar=c(2.5,0.5,2.5,0.5))\n",
    "barplot(edges$diff, \n",
    "        col = edges$color, \n",
    "        width = abs(edges$weight), \n",
    "        border = NA, \n",
    "        main = \"Coefficient\\nDelta\",\n",
    "        horiz = TRUE)\n",
    "dev.off()"
   ]
  },
  {
   "cell_type": "code",
   "execution_count": 22,
   "id": "5bea8117",
   "metadata": {},
   "outputs": [
    {
     "data": {
      "text/html": [
       "<strong>png:</strong> 2"
      ],
      "text/latex": [
       "\\textbf{png:} 2"
      ],
      "text/markdown": [
       "**png:** 2"
      ],
      "text/plain": [
       "png \n",
       "  2 "
      ]
     },
     "metadata": {},
     "output_type": "display_data"
    }
   ],
   "source": [
    "group_name = c('Short','Long')\n",
    "pdf(\"output/correlation/figure/Network_Short_Long.pdf\", width=8, height=4)\n",
    "\n",
    "par(mfrow=c(1, 2),   \n",
    "    mar=c(0,2,0,2),  # c(bottom, left, top, right)\n",
    "    oma=c(0,1,0,1))  # Outer margins\n",
    "\n",
    "for (name in group_name) {\n",
    "    mat = corr_mat_list[[name]]\n",
    "    base_line = corr_rev_list[[name]]\n",
    "    plot_one_group(mat, base_line, network, layout, name)\n",
    "}\n",
    "dev.off()"
   ]
  }
 ],
 "metadata": {
  "kernelspec": {
   "display_name": "R [conda env:conda-py3_R] *",
   "language": "R",
   "name": "conda-env-conda-py3_R-r"
  },
  "language_info": {
   "codemirror_mode": "r",
   "file_extension": ".r",
   "mimetype": "text/x-r-source",
   "name": "R",
   "pygments_lexer": "r",
   "version": "4.1.3"
  }
 },
 "nbformat": 4,
 "nbformat_minor": 5
}
